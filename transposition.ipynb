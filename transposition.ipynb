{
 "cells": [
  {
   "cell_type": "markdown",
   "metadata": {},
   "source": [
    "# Transposition, a bio-inspired operator\n",
    "\n",
    "This notebook is based on the algorithms stored in `evol_algorithm.py` file.\n",
    "\n",
    "## Evolutionary Algorithm\n",
    "\n",
    "We run an evolutionary algorithm and evaluate the performance for two different recombination operator: Uniform Crossover and Transposition."
   ]
  },
  {
   "cell_type": "code",
   "execution_count": 1,
   "metadata": {},
   "outputs": [],
   "source": [
    "from evol_algorithm import *\n",
    "import numpy as np\n",
    "import matplotlib.pyplot as plt\n",
    "import pandas as pd"
   ]
  },
  {
   "cell_type": "markdown",
   "metadata": {},
   "source": [
    "- - - - - - - - - - - - - - - - - - - - - - - - - - - - - - - - - - - - - - - - - - - - - - - - - - - - - "
   ]
  },
  {
   "cell_type": "markdown",
   "metadata": {},
   "source": [
    "## Runs\n",
    "\n",
    "We use three different functions to test our algorithm.\n",
    "\n",
    "For some parameters we use the same value for all the runs, so we define them before running the evolutionary algorithms. Furthermore we use the same population for every run.\n",
    "\n",
    "**PARAMETERS:**"
   ]
  },
  {
   "cell_type": "code",
   "execution_count": 2,
   "metadata": {},
   "outputs": [],
   "source": [
    "numb_runs = 30\n",
    "numb_generations = 50\n",
    "size_pop = 100\n",
    "prob_mut = 0.02\n",
    "prob_cross = 0.7\n",
    "tour_size = 3\n",
    "elite_percent = 0.02\n",
    "dimensions = 12\n",
    "precision = 3"
   ]
  },
  {
   "cell_type": "markdown",
   "metadata": {},
   "source": [
    "## RASTIRIGIN"
   ]
  },
  {
   "cell_type": "markdown",
   "metadata": {},
   "source": [
    "**CROSSOVER**\n",
    "\n",
    "We first define the problem dependent parameters and generate the initial population in order to have the same initial conditions."
   ]
  },
  {
   "cell_type": "code",
   "execution_count": 3,
   "metadata": {},
   "outputs": [],
   "source": [
    "# problem dependent parameters\n",
    "max_domain = 5.12\n",
    "recombination = uniform_cross(prob_cross, max_domain, precision, dimensions)\n",
    "filename = 'rastrigin_crossover'\n",
    "fitness = fit_rastrigin(dimensions, precision)\n",
    "\n",
    "'''\n",
    "Not to change when copy and paste\n",
    "'''\n",
    "mutation = muta_bin(max_domain, dimensions, precision)"
   ]
  },
  {
   "cell_type": "code",
   "execution_count": 4,
   "metadata": {},
   "outputs": [],
   "source": [
    "'''\n",
    "Return population from file\n",
    "'''\n",
    "\n",
    "pop_init = read_init_pop('init_pop_rastrigin.dat')"
   ]
  },
  {
   "cell_type": "code",
   "execution_count": 6,
   "metadata": {},
   "outputs": [
    {
     "name": "stdout",
     "output_type": "stream",
     "text": [
      "CPU times: user 2.96 s, sys: 97.4 ms, total: 3.06 s\n",
      "Wall time: 3.41 s\n"
     ]
    }
   ],
   "source": [
    "%%time\n",
    "\n",
    "run_file(filename, numb_runs, numb_generations, pop_init, size_pop, prob_mut,\n",
    "         tour_sel(tour_size), recombination, mutation, sel_survivors_elite(elite_percent), fitness)"
   ]
  },
  {
   "cell_type": "markdown",
   "metadata": {},
   "source": [
    "**TRANSPOSITION**"
   ]
  },
  {
   "cell_type": "code",
   "execution_count": null,
   "metadata": {},
   "outputs": [
    {
     "name": "stdout",
     "output_type": "stream",
     "text": [
      "13\r"
     ]
    }
   ],
   "source": [
    "%%time\n",
    "\n",
    "flank_size = [2, 3, 4, 5, 6, 7, 8, 9, 10]\n",
    "\n",
    "for f_s in flank_size:\n",
    "    filename = 'rastrigin_transposition_'+str(f_s)\n",
    "    recombination = transposition(f_s)\n",
    "    run_file(filename, numb_runs, numb_generations, pop_init, size_pop, prob_mut,\n",
    "         tour_sel(tour_size), recombination, mutation, sel_survivors_elite(elite_percent), fitness)"
   ]
  },
  {
   "cell_type": "markdown",
   "metadata": {},
   "source": [
    "- - - - - -"
   ]
  },
  {
   "cell_type": "markdown",
   "metadata": {},
   "source": [
    "## FZ ???"
   ]
  },
  {
   "cell_type": "markdown",
   "metadata": {},
   "source": [
    "**CROSSOVER**"
   ]
  },
  {
   "cell_type": "code",
   "execution_count": 3,
   "metadata": {},
   "outputs": [],
   "source": [
    "# problem dependent parameters\n",
    "max_domain = 5.12\n",
    "recombination = uniform_cross(prob_cross, max_domain, precision, dimensions)\n",
    "filename = '???_crossover'\n",
    "fitness = fit_???(dimensions, precision)\n",
    "\n",
    "'''\n",
    "Not to change when copy and paste\n",
    "'''\n",
    "size_cromo = cromo_len(max_domain, precision)\n",
    "mutation = muta_bin(max_domain, dimensions, precision)\n",
    "pop = gera_pop(max_domain, precision, dimensions) # initialize population\n",
    "pop_init????"
   ]
  },
  {
   "cell_type": "code",
   "execution_count": 4,
   "metadata": {},
   "outputs": [
    {
     "name": "stdout",
     "output_type": "stream",
     "text": [
      "CPU times: user 18.6 s, sys: 185 ms, total: 18.8 s\n",
      "Wall time: 19 s\n"
     ]
    }
   ],
   "source": [
    "%%time\n",
    "\n",
    "run_file(filename, numb_runs, numb_generations, pop_init, size_pop, prob_mut,\n",
    "         tour_sel(tour_size), recombination, mutation, sel_survivors_elite(elite_percent), fitness)"
   ]
  },
  {
   "cell_type": "markdown",
   "metadata": {},
   "source": [
    "**TRANSPOSITION**"
   ]
  },
  {
   "cell_type": "code",
   "execution_count": null,
   "metadata": {},
   "outputs": [
    {
     "name": "stdout",
     "output_type": "stream",
     "text": [
      "13\r"
     ]
    }
   ],
   "source": [
    "%%time\n",
    "\n",
    "flank_size = [2, 3, 4, 5, 6, 7, 8, 9, 10]\n",
    "\n",
    "for f_s in flank_size:\n",
    "    filename = '???_transposition_'+str(f_s)\n",
    "    recombination = transposition(f_s)\n",
    "    run_file(filename, numb_runs, numb_generations, pop_init, size_pop, prob_mut,\n",
    "         tour_sel(tour_size), recombination, mutation, sel_survivors_elite(elite_percent), fitness)"
   ]
  },
  {
   "cell_type": "code",
   "execution_count": null,
   "metadata": {},
   "outputs": [],
   "source": []
  },
  {
   "cell_type": "code",
   "execution_count": null,
   "metadata": {},
   "outputs": [],
   "source": []
  }
 ],
 "metadata": {
  "kernelspec": {
   "display_name": "Python 3",
   "language": "python",
   "name": "python3"
  },
  "language_info": {
   "codemirror_mode": {
    "name": "ipython",
    "version": 3
   },
   "file_extension": ".py",
   "mimetype": "text/x-python",
   "name": "python",
   "nbconvert_exporter": "python",
   "pygments_lexer": "ipython3",
   "version": "3.7.4"
  }
 },
 "nbformat": 4,
 "nbformat_minor": 4
}
