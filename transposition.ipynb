{
 "cells": [
  {
   "cell_type": "markdown",
   "metadata": {},
   "source": [
    "# Transposition, a bio-inspired operator"
   ]
  },
  {
   "cell_type": "code",
   "execution_count": 1,
   "metadata": {},
   "outputs": [],
   "source": [
    "from evol_algorithm import *\n",
    "import numpy as np\n",
    "import math\n",
    "import matplotlib.pyplot as plt"
   ]
  },
  {
   "cell_type": "code",
   "execution_count": 2,
   "metadata": {},
   "outputs": [
    {
     "name": "stdout",
     "output_type": "stream",
     "text": [
      "rnd_index 14\n",
      "flanking [0, 0, 1]\n",
      "end indiv_1:  19\n",
      "start indiv_2:  7\n",
      "indiv1:\t [1, 0, 1, 0, 1, 1, 1, 1, 0, 1, 1, 0, 0, 1, 0, 1, 0, 0, 1, 1]\n",
      "indiv2:\t [1, 1, 1, 1, 0, 0, 1, 0, 1, 1, 0, 0, 0, 1, 0, 1, 1, 0, 1, 0]\n",
      "f1:\t [1, 0, 1, 0, 1, 1, 1, 1, 0, 1, 1, 0, 0, 1, 0, 1, 0, 0, 1, 1]\n",
      "f2:\t [1, 1, 1, 1, 0, 0, 1, 0, 1, 1, 0, 0, 0, 1, 0, 1, 1, 0, 1, 0]\n",
      "f1:\t [1, 0, 1, 0, 1, 1, 1, 1, 0, 1, 1, 0, 0, 1, 0, 1, 0, 0, 1, 1]\n",
      "f2:\t [1, 1, 1, 1, 0, 0, 1, 0, 1, 1, 0, 0, 0, 1, 0, 1, 1, 0, 1, 0]\n",
      "trasposizione in corso\n",
      "f1:\t [1, 0, 1, 0, 1, 1, 1, 1, 0, 1, 1, 0, 0, 1, 0, 1, 0, 0, 1, 1]\n",
      "f2:\t [1, 1, 1, 1, 0, 0, 1, 0, 1, 1, 0, 0, 0, 1, 0, 1, 1, 0, 1, 0]\n",
      "trasposizione in corso\n",
      "f1:\t [1, 0, 1, 0, 1, 1, 1, 1, 0, 1, 1, 0, 0, 1, 0, 1, 1, 0, 1, 1]\n",
      "f2:\t [1, 1, 1, 1, 0, 0, 1, 0, 1, 1, 0, 0, 0, 1, 0, 1, 1, 0, 1, 0]\n",
      "trasposizione in corso\n",
      "f1:\t [1, 0, 1, 0, 1, 1, 1, 1, 0, 1, 1, 0, 0, 1, 0, 1, 1, 0, 1, 1]\n",
      "f2:\t [1, 1, 1, 1, 0, 0, 1, 0, 1, 1, 0, 0, 0, 1, 0, 1, 1, 0, 1, 0]\n",
      "trasposizione in corso\n",
      "f1:\t [1, 0, 1, 0, 1, 1, 1, 1, 0, 1, 1, 0, 0, 1, 0, 1, 1, 0, 0, 1]\n",
      "f2:\t [1, 1, 1, 1, 0, 0, 1, 0, 1, 1, 0, 0, 0, 1, 0, 1, 1, 0, 1, 0]\n",
      "trasposizione in corso\n",
      " [1, 0, 1, 0, 1, 1, 1, 1, 0, 1, 1, 0, 0, 1, 0, 1, 1, 0, 0, 1] \n",
      " [1, 0, 1, 0, 1, 1, 1, 1, 0, 1, 1, 0, 0, 1, 0, 1, 1, 0, 0, 1]\n",
      " [1, 1, 1, 1, 0, 0, 1, 0, 1, 1, 0, 0, 0, 1, 0, 1, 1, 0, 1, 0] \n",
      " [1, 1, 1, 1, 0, 0, 1, 0, 1, 1, 0, 0, 0, 1, 0, 1, 1, 0, 1, 0]\n"
     ]
    }
   ],
   "source": [
    "trans = transposition(flank_size=3)\n",
    "\n",
    "i1 = [1,0,1,0,1,1,1,1,0,1,1,0,0,1,0,1,0,0,1,1]\n",
    "i2 = [1,1,1,1,0,0,1,0,1,1,0,0,0,1,0,1,1,0,1,0]\n",
    "\n",
    "a, b = trans(i1, i2)\n",
    "print('',i1,'\\n',a)\n",
    "print('',i2,'\\n',b)"
   ]
  },
  {
   "cell_type": "code",
   "execution_count": 6,
   "metadata": {},
   "outputs": [
    {
     "data": {
      "text/plain": [
       "[6, 2, 3, 4, 5]"
      ]
     },
     "execution_count": 6,
     "metadata": {},
     "output_type": "execute_result"
    }
   ],
   "source": [
    "x = [1,2,3,4,5]\n",
    "y = [6,7,8,9,0]\n",
    "\n",
    "x[0] = y[0]\n",
    "x"
   ]
  },
  {
   "cell_type": "markdown",
   "metadata": {},
   "source": [
    "## Functions"
   ]
  },
  {
   "cell_type": "code",
   "execution_count": 2,
   "metadata": {},
   "outputs": [],
   "source": [
    "def deJong(indiv):\n",
    "    \"\"\"\n",
    "    quartic = DeJong 1\n",
    "    domain = [-5.12; 5.12]\n",
    "    minimum 0 at (0,....,0)\n",
    "    \"\"\"\n",
    "    y = sum([ x**2 for x in indiv])\n",
    "    return y\n",
    "\n",
    "def rosenbrock(indiv):\n",
    "    \"\"\"\n",
    "    quartic = DeJong 2\n",
    "    domain = [-2.048; 2.048]\n",
    "    minimum 0 at (1,....,1)\n",
    "    \"\"\"\n",
    "#    y = sum([ (1 - x)**2 + 100*(???) for i,x in enumerate(indiv)])\n",
    "# BISOGNA CAPIRE COME SCRIVERE X_i+1\n",
    "    return y\n",
    "\n",
    "def rastrigin(indiv):\n",
    "    \"\"\"\n",
    "    rastrigin function\n",
    "    domain = [-5.12, 5.12]\n",
    "    minimum at (0,....,0)\n",
    "    \"\"\"\n",
    "    n = len(indiv)\n",
    "    A = 10\n",
    "    return A * n + sum([x**2 - A * math.cos(2 * math.pi * x) for x in indiv])\n",
    "    \n",
    "def schwefel(indiv):    \n",
    "    \"\"\"\n",
    "    schwefel function\n",
    "    domain = [-500; 500]\n",
    "    minimum at (420.9687,...,420.9687)\n",
    "    \"\"\"\n",
    "    y = sum([-x * math.sin(math.sqrt(math.fabs(x))) for x in indiv])\n",
    "    return y\n",
    "\n",
    "def quartic(indiv):\n",
    "    \"\"\"\n",
    "    quartic = DeJong 4\n",
    "    domain = [-1.28; 1.28]\n",
    "    minimum 0 at x = 0\n",
    "    \"\"\"\n",
    "    y = sum([ (i+1) * x for i,x in enumerate(indiv)]) + random.uniform(0,1)\n",
    "    return y"
   ]
  },
  {
   "cell_type": "code",
   "execution_count": 3,
   "metadata": {},
   "outputs": [],
   "source": [
    "#def merito_r(indiv, dim, prec):\n",
    "#    return rastrigin(phenotype(indiv, dim, prec))\n",
    "\n",
    "def fit_rastrigin(dim, prec):\n",
    "    def rastrigin(indiv):\n",
    "        X = phenotype(indiv, dim, prec)\n",
    "        n = len(X)\n",
    "        A = 10\n",
    "        return A * n + sum([x**2 - A * math.cos(2 * math.pi * x) for x in X])\n",
    "    return rastrigin\n",
    "\n",
    "def fit_schwefel(dim, prec):\n",
    "    def schwefel(indiv):    \n",
    "        X = phenotype(indiv, dim, prec)\n",
    "        y = 420.968746*dim + sum([-x * math.sin(math.sqrt(math.fabs(x))) for x in X])\n",
    "        return y\n",
    "    return schwefel\n",
    "\n",
    "def fit_dejong(dim,prec):\n",
    "    def dejong(indiv):\n",
    "        X = phenotype(indiv, dim, prec)\n",
    "        n = len(X)\n",
    "        return sum([ x**2 for x in X])\n",
    "    return dejong"
   ]
  },
  {
   "cell_type": "markdown",
   "metadata": {},
   "source": [
    "## Define parameters"
   ]
  },
  {
   "cell_type": "code",
   "execution_count": 42,
   "metadata": {},
   "outputs": [],
   "source": [
    "numb_generations = 50\n",
    "size_pop = 1000\n",
    "prob_mut = 0.01\n",
    "prob_cross = 0.7\n",
    "tour_size = 3\n",
    "elite_percent = 0.02 \n",
    "\n",
    "dimensions = 10\n",
    "max_domain = 5.12\n",
    "precision = 4\n",
    "\n",
    "# we define here all the function problem dependent so we don't need to modify the evolutionary algorithm\n",
    "size_cromo = cromo_len(max_domain, precision)\n",
    "recombination = uniform_cross(prob_cross, max_domain, precision, dimensions)\n",
    "mutation = muta_bin(max_domain, dimensions, precision)\n",
    "pop = gera_pop(max_domain, precision, dimensions)"
   ]
  },
  {
   "cell_type": "code",
   "execution_count": 90,
   "metadata": {
    "scrolled": true
   },
   "outputs": [
    {
     "name": "stdout",
     "output_type": "stream",
     "text": [
      "11.11332241754792\n",
      "[0.9855, 1.024, 0.9471, 1.9904, -0.0128, 0.9952, -0.0256, 0.9631, 1.024, 0.0]\n"
     ]
    }
   ],
   "source": [
    "best_sea = sea(numb_generations, size_pop, size_cromo, prob_mut, prob_cross, tour_sel(tour_size),\n",
    "               recombination, mutation, sel_survivors_elite(elite_percent), fit_rastrigin(dimensions, precision), pop)\n",
    "print(best_sea[1])\n",
    "print(phenotype(best_sea[0], dimensions, precision))"
   ]
  },
  {
   "cell_type": "code",
   "execution_count": 88,
   "metadata": {
    "scrolled": true
   },
   "outputs": [
    {
     "name": "stdout",
     "output_type": "stream",
     "text": [
      "6.225413082952855\n",
      "[420.7, 422.4, 421.0]\n"
     ]
    }
   ],
   "source": [
    "numb_generations = 300\n",
    "size_pop = 250\n",
    "prob_mut = 0.01\n",
    "prob_cross = 0.7\n",
    "tour_size = 3\n",
    "elite_percent = 0.03\n",
    "\n",
    "dimensions = 3\n",
    "max_domain = 500\n",
    "precision = 1\n",
    "\n",
    "# we define here all the function problem dependent so we don't need to modify the evolutionary algorithm\n",
    "size_cromo = cromo_len(max_domain, precision)\n",
    "recombination = uniform_cross(prob_cross, max_domain, precision, dimensions)\n",
    "mutation = muta_bin(max_domain, dimensions, precision)\n",
    "pop = gera_pop(max_domain, precision, dimensions)\n",
    "best_schwefel = sea(numb_generations, size_pop, size_cromo, prob_mut, prob_cross, tour_sel(tour_size),\n",
    "               recombination, mutation, sel_survivors_elite(elite_percent), fit_schwefel(dimensions, precision), pop)\n",
    "print(best_schwefel[1])\n",
    "print(phenotype(best_schwefel[0], dimensions, precision))\n",
    "print(best_schwefel)"
   ]
  },
  {
   "cell_type": "code",
   "execution_count": 43,
   "metadata": {
    "scrolled": true
   },
   "outputs": [],
   "source": [
    "best_sea_for_plot = sea_for_plot(numb_generations, size_pop, size_cromo, prob_mut, prob_cross, tour_sel(tour_size),\n",
    "               recombination, mutation, sel_survivors_elite(elite_percent), fit_rastrigin(dimensions, precision), pop)"
   ]
  },
  {
   "cell_type": "code",
   "execution_count": 44,
   "metadata": {},
   "outputs": [
    {
     "data": {
      "text/plain": [
       "[<matplotlib.lines.Line2D at 0x7f9165743b90>]"
      ]
     },
     "execution_count": 44,
     "metadata": {},
     "output_type": "execute_result"
    },
    {
     "data": {
      "image/png": "[encoded data removed]",
      "text/plain": [
       "<Figure size 432x288 with 1 Axes>"
      ]
     },
     "metadata": {
      "needs_background": "light"
     },
     "output_type": "display_data"
    }
   ],
   "source": [
    "plt.plot(best_sea_for_plot[1])"
   ]
  },
  {
   "cell_type": "code",
   "execution_count": 45,
   "metadata": {
    "collapsed": true,
    "jupyter": {
     "outputs_hidden": true
    }
   },
   "outputs": [
    {
     "data": {
      "text/plain": [
       "([1,\n",
       "  0,\n",
       "  0,\n",
       "  0,\n",
       "  0,\n",
       "  0,\n",
       "  0,\n",
       "  0,\n",
       "  0,\n",
       "  0,\n",
       "  0,\n",
       "  0,\n",
       "  0,\n",
       "  1,\n",
       "  0,\n",
       "  1,\n",
       "  1,\n",
       "  0,\n",
       "  0,\n",
       "  0,\n",
       "  0,\n",
       "  0,\n",
       "  0,\n",
       "  0,\n",
       "  0,\n",
       "  0,\n",
       "  0,\n",
       "  0,\n",
       "  0,\n",
       "  0,\n",
       "  0,\n",
       "  0,\n",
       "  0,\n",
       "  0,\n",
       "  0,\n",
       "  0,\n",
       "  0,\n",
       "  0,\n",
       "  0,\n",
       "  0,\n",
       "  0,\n",
       "  0,\n",
       "  0,\n",
       "  0,\n",
       "  0,\n",
       "  0,\n",
       "  0,\n",
       "  1,\n",
       "  0,\n",
       "  1,\n",
       "  0,\n",
       "  0,\n",
       "  0,\n",
       "  0,\n",
       "  0,\n",
       "  0,\n",
       "  0,\n",
       "  0,\n",
       "  0,\n",
       "  0,\n",
       "  0,\n",
       "  0,\n",
       "  0,\n",
       "  0,\n",
       "  1,\n",
       "  0,\n",
       "  0,\n",
       "  0,\n",
       "  0,\n",
       "  0,\n",
       "  0,\n",
       "  0,\n",
       "  0,\n",
       "  0,\n",
       "  0,\n",
       "  0,\n",
       "  0,\n",
       "  0,\n",
       "  0,\n",
       "  0,\n",
       "  0,\n",
       "  1,\n",
       "  0,\n",
       "  0,\n",
       "  0,\n",
       "  0,\n",
       "  0,\n",
       "  0,\n",
       "  0,\n",
       "  0,\n",
       "  0,\n",
       "  0,\n",
       "  0,\n",
       "  0,\n",
       "  0,\n",
       "  0,\n",
       "  0,\n",
       "  0,\n",
       "  0,\n",
       "  0,\n",
       "  0,\n",
       "  0,\n",
       "  0,\n",
       "  0,\n",
       "  0,\n",
       "  0,\n",
       "  0,\n",
       "  0,\n",
       "  0,\n",
       "  0,\n",
       "  0,\n",
       "  0,\n",
       "  0,\n",
       "  0,\n",
       "  0,\n",
       "  0,\n",
       "  0,\n",
       "  0,\n",
       "  0,\n",
       "  0,\n",
       "  0,\n",
       "  0,\n",
       "  0,\n",
       "  0,\n",
       "  0,\n",
       "  0,\n",
       "  0,\n",
       "  0,\n",
       "  0,\n",
       "  0,\n",
       "  0,\n",
       "  0,\n",
       "  0,\n",
       "  1,\n",
       "  0,\n",
       "  1,\n",
       "  0,\n",
       "  0,\n",
       "  0,\n",
       "  0,\n",
       "  0,\n",
       "  0,\n",
       "  0,\n",
       "  0,\n",
       "  0,\n",
       "  0,\n",
       "  0,\n",
       "  0,\n",
       "  0,\n",
       "  0,\n",
       "  1,\n",
       "  0,\n",
       "  1,\n",
       "  1,\n",
       "  0,\n",
       "  0,\n",
       "  0,\n",
       "  0,\n",
       "  0,\n",
       "  0,\n",
       "  0,\n",
       "  0,\n",
       "  0,\n",
       "  0,\n",
       "  0,\n",
       "  0,\n",
       "  0,\n",
       "  1,\n",
       "  0,\n",
       "  0],\n",
       " 0.0008233249353395422)"
      ]
     },
     "execution_count": 45,
     "metadata": {},
     "output_type": "execute_result"
    }
   ],
   "source": [
    "best_sea_for_plot[0]"
   ]
  },
  {
   "cell_type": "code",
   "execution_count": null,
   "metadata": {},
   "outputs": [],
   "source": []
  }
 ],
 "metadata": {
  "kernelspec": {
   "display_name": "Python 3",
   "language": "python",
   "name": "python3"
  },
  "language_info": {
   "codemirror_mode": {
    "name": "ipython",
    "version": 3
   },
   "file_extension": ".py",
   "mimetype": "text/x-python",
   "name": "python",
   "nbconvert_exporter": "python",
   "pygments_lexer": "ipython3",
   "version": "3.7.4"
  }
 },
 "nbformat": 4,
 "nbformat_minor": 4
}
