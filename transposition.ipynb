{
 "cells": [
  {
   "cell_type": "markdown",
   "metadata": {},
   "source": [
    "# Transposition, a bio-inspired operator"
   ]
  },
  {
   "cell_type": "code",
   "execution_count": 1,
   "metadata": {},
   "outputs": [],
   "source": [
    "from evol_algorithm import *\n",
    "import numpy as np\n",
    "import math\n",
    "import matplotlib.pyplot as plt"
   ]
  },
  {
   "cell_type": "markdown",
   "metadata": {},
   "source": [
    "## Functions"
   ]
  },
  {
   "cell_type": "code",
   "execution_count": 2,
   "metadata": {},
   "outputs": [],
   "source": [
    "def deJong(indiv):\n",
    "    \"\"\"\n",
    "    quartic = DeJong 1\n",
    "    domain = [-5.12; 5.12]\n",
    "    minimum 0 at (0,....,0)\n",
    "    \"\"\"\n",
    "    y = sum([ x**2 for x in indiv])\n",
    "    return y\n",
    "\n",
    "def rosenbrock(indiv):\n",
    "    \"\"\"\n",
    "    quartic = DeJong 2\n",
    "    domain = [-2.048; 2.048]\n",
    "    minimum 0 at (1,....,1)\n",
    "    \"\"\"\n",
    "#    y = sum([ (1 - x)**2 + 100*(???) for i,x in enumerate(indiv)])\n",
    "# BISOGNA CAPIRE COME SCRIVERE X_i+1\n",
    "    return y\n",
    "\n",
    "def rastrigin(indiv):\n",
    "    \"\"\"\n",
    "    rastrigin function\n",
    "    domain = [-5.12, 5.12]\n",
    "    minimum at (0,....,0)\n",
    "    \"\"\"\n",
    "    n = len(indiv)\n",
    "    A = 10\n",
    "    return A * n + sum([x**2 - A * math.cos(2 * math.pi * x) for x in indiv])\n",
    "    \n",
    "def schwefel(indiv):    \n",
    "    \"\"\"\n",
    "    schwefel function\n",
    "    domain = [-500; 500]\n",
    "    minimum at (420.9687,...,420.9687)\n",
    "    \"\"\"\n",
    "    y = sum([-x * math.sin(math.sqrt(math.fabs(x))) for x in indiv])\n",
    "    return y\n",
    "\n",
    "def quartic(indiv):\n",
    "    \"\"\"\n",
    "    quartic = DeJong 4\n",
    "    domain = [-1.28; 1.28]\n",
    "    minimum 0 at x = 0\n",
    "    \"\"\"\n",
    "    y = sum([ (i+1) * x for i,x in enumerate(indiv)]) + random.uniform(0,1)\n",
    "    return y"
   ]
  },
  {
   "cell_type": "code",
   "execution_count": 3,
   "metadata": {},
   "outputs": [],
   "source": [
    "#def merito_r(indiv, dim, prec):\n",
    "#    return rastrigin(phenotype(indiv, dim, prec))\n",
    "\n",
    "def fit_rastrigin(dim, prec):\n",
    "    def rastrigin(indiv):\n",
    "        X = phenotype(indiv, dim, prec)\n",
    "        n = len(X)\n",
    "        A = 10\n",
    "        return A * n + sum([x**2 - A * math.cos(2 * math.pi * x) for x in X])\n",
    "    return rastrigin\n",
    "\n",
    "def fit_schwefel(dim, prec):\n",
    "    def schwefel(indiv):    \n",
    "        X = phenotype(indiv, dim, prec)\n",
    "        y = 420.968746*dim + sum([-x * math.sin(math.sqrt(math.fabs(x))) for x in X])\n",
    "        return y\n",
    "    return schwefel\n",
    "\n",
    "def fit_dejong(dim,prec):\n",
    "    def dejong(indiv):\n",
    "        X = phenotype(indiv, dim, prec)\n",
    "        n = len(X)\n",
    "        return sum([ x**2 for x in X])\n",
    "    return dejong"
   ]
  },
  {
   "cell_type": "markdown",
   "metadata": {},
   "source": [
    "## Define parameters"
   ]
  },
  {
   "cell_type": "code",
   "execution_count": 4,
   "metadata": {},
   "outputs": [
    {
     "name": "stdout",
     "output_type": "stream",
     "text": [
      "32.95184569141706\n",
      "[1.0375, -1.0894, -2.0642, 1.0914, 1.9061, 1.8647, -0.9827, -1.9184, 1.0885, -0.0259]\n"
     ]
    }
   ],
   "source": [
    "# crossover rastrigin\n",
    "numb_generations = 20\n",
    "size_pop = 50\n",
    "prob_mut = 0.01\n",
    "prob_cross = 0.7\n",
    "tour_size = 3\n",
    "elite_percent = 0.02 \n",
    "\n",
    "dimensions = 10\n",
    "max_domain = 5.12\n",
    "precision = 4\n",
    "\n",
    "# we define here all the function problem dependent so we don't need to modify the evolutionary algorithm\n",
    "size_cromo = cromo_len(max_domain, precision)\n",
    "recombination = uniform_cross(prob_cross, max_domain, precision, dimensions)\n",
    "mutation = muta_bin(max_domain, dimensions, precision)\n",
    "pop = gera_pop(max_domain, precision, dimensions)\n",
    "\n",
    "best_sea = sea(numb_generations, size_pop, size_cromo, prob_mut, tour_sel(tour_size),\n",
    "               recombination, mutation, sel_survivors_elite(elite_percent), fit_rastrigin(dimensions, precision), pop)\n",
    "print(best_sea[1])\n",
    "print(phenotype(best_sea[0], dimensions, precision))"
   ]
  },
  {
   "cell_type": "code",
   "execution_count": 12,
   "metadata": {
    "scrolled": true
   },
   "outputs": [
    {
     "name": "stdout",
     "output_type": "stream",
     "text": [
      "5.957945951567126\n",
      "[421.0, 421.0, 421.0]\n",
      "([0, 1, 0, 0, 0, 0, 0, 1, 1, 1, 0, 0, 1, 0, 0, 1, 0, 0, 0, 0, 0, 1, 1, 1, 0, 0, 1, 0, 0, 1, 0, 0, 0, 0, 0, 1, 1, 1, 0, 0, 1, 0], 5.957945951567126)\n"
     ]
    }
   ],
   "source": [
    "# crossover schwefel\n",
    "numb_generations = 20\n",
    "size_pop = 500\n",
    "prob_mut = 0.01\n",
    "prob_cross = 0.7\n",
    "tour_size = 3\n",
    "elite_percent = 0.03\n",
    "\n",
    "dimensions = 3\n",
    "max_domain = 500\n",
    "precision = 4\n",
    "\n",
    "# we define here all the function problem dependent so we don't need to modify the evolutionary algorithm\n",
    "size_cromo = cromo_len(max_domain, precision)\n",
    "recombination = uniform_cross(prob_cross, max_domain, precision, dimensions)\n",
    "mutation = muta_bin(max_domain, dimensions, precision)\n",
    "pop = gera_pop(max_domain, precision, dimensions)\n",
    "best_schwefel = sea(numb_generations, size_pop, size_cromo, prob_mut, tour_sel(tour_size),\n",
    "               recombination, mutation, sel_survivors_elite(elite_percent), fit_schwefel(dimensions, precision), pop)\n",
    "print(best_schwefel[1])\n",
    "print(phenotype(best_schwefel[0], dimensions, precision))\n",
    "print(best_schwefel)"
   ]
  },
  {
   "cell_type": "code",
   "execution_count": 4,
   "metadata": {
    "scrolled": false
   },
   "outputs": [
    {
     "name": "stdout",
     "output_type": "stream",
     "text": [
      "19\r"
     ]
    }
   ],
   "source": [
    "#rastring with CROSSOVER for plot\n",
    "\n",
    "numb_generations = 20\n",
    "size_pop = 50\n",
    "prob_mut = 0.01\n",
    "prob_cross = 0.7\n",
    "tour_size = 3\n",
    "elite_percent = 0.02 \n",
    "\n",
    "dimensions = 3\n",
    "max_domain = 5.12\n",
    "precision = 4\n",
    "\n",
    "size_cromo = cromo_len(max_domain, precision)\n",
    "recombination = uniform_cross(prob_cross, max_domain, precision, dimensions)\n",
    "mutation = muta_bin(max_domain, dimensions, precision)\n",
    "pop = gera_pop(max_domain, precision, dimensions)\n",
    "\n",
    "# plot di rastring con crossover\n",
    "best_sea_for_plot = sea_for_plot(numb_generations, size_pop, size_cromo, prob_mut, tour_sel(tour_size),\n",
    "               recombination, mutation, sel_survivors_elite(elite_percent), fit_rastrigin(dimensions, precision), pop)"
   ]
  },
  {
   "cell_type": "code",
   "execution_count": 30,
   "metadata": {},
   "outputs": [
    {
     "data": {
      "text/plain": [
       "[<matplotlib.lines.Line2D at 0x7f1800278050>]"
      ]
     },
     "execution_count": 30,
     "metadata": {},
     "output_type": "execute_result"
    },
    {
     "data": {
      "image/png": "[encoded data removed]",
      "text/plain": [
       "<Figure size 432x288 with 1 Axes>"
      ]
     },
     "metadata": {
      "needs_background": "light"
     },
     "output_type": "display_data"
    }
   ],
   "source": [
    "plt.plot(best_sea_for_plot[1])\n",
    "plt.plot(best_sea_for_plot[2],'.')"
   ]
  },
  {
   "cell_type": "code",
   "execution_count": 4,
   "metadata": {},
   "outputs": [
    {
     "name": "stdout",
     "output_type": "stream",
     "text": [
      "19\r"
     ]
    }
   ],
   "source": [
    "#rastring with TRANSPOSITION for plot\n",
    "\n",
    "numb_generations = 20\n",
    "size_pop = 50\n",
    "prob_mut = 0.01\n",
    "prob_cross = 0.7\n",
    "tour_size = 3\n",
    "elite_percent = 0.02 \n",
    "\n",
    "dimensions = 6\n",
    "max_domain = 5.12\n",
    "precision = 4\n",
    "\n",
    "size_cromo = cromo_len(max_domain, precision)\n",
    "recombination = transposition(3)\n",
    "mutation = muta_bin(max_domain, dimensions, precision)\n",
    "pop = gera_pop(max_domain, precision, dimensions)\n",
    "\n",
    "# plot di rastring con transposition\n",
    "best_sea_for_plot = sea_for_plot(numb_generations, size_pop, size_cromo, prob_mut, tour_sel(tour_size),\n",
    "               recombination, mutation, sel_survivors_elite(elite_percent), fit_rastrigin(dimensions, precision), pop)"
   ]
  },
  {
   "cell_type": "code",
   "execution_count": 5,
   "metadata": {
    "scrolled": false
   },
   "outputs": [
    {
     "data": {
      "text/plain": [
       "[<matplotlib.lines.Line2D at 0x7f4e5d69ab90>]"
      ]
     },
     "execution_count": 5,
     "metadata": {},
     "output_type": "execute_result"
    },
    {
     "data": {
      "image/png": "[encoded data removed]",
      "text/plain": [
       "<Figure size 432x288 with 1 Axes>"
      ]
     },
     "metadata": {
      "needs_background": "light"
     },
     "output_type": "display_data"
    }
   ],
   "source": [
    "plt.plot(best_sea_for_plot[1])\n",
    "plt.plot(best_sea_for_plot[2],'.')"
   ]
  },
  {
   "cell_type": "code",
   "execution_count": 5,
   "metadata": {},
   "outputs": [
    {
     "name": "stdout",
     "output_type": "stream",
     "text": [
      "[(36.401506912114165, 41.4869412715643), (35.88015754315272, 41.31315814857715), (35.88015754315272, 47.800848390521956), (34.01322098291712, 38.154561960781926), (35.54820810937565, 42.332835298708666), (38.21589394278463, 42.09378646225899), (29.149147866342954, 34.328760796310895), (33.58533904975097, 35.31123172204388), (21.034790827963896, 30.691079779757057), (20.35395502365197, 30.451558560112385), (17.732216975721784, 25.268321807861298), (17.92337507125469, 25.223739748099188), (16.152358857555733, 25.601540604186024), (16.152358857555733, 25.601291651079652), (16.13025370888017, 25.591648613101444), (15.958258760889123, 24.759554224899414), (13.074890783668756, 23.61609487796711), (7.083956175509002, 21.50537853940578), (6.564827752277388, 21.291905257304236), (5.404661965164443, 20.583552166257267), (5.097058217363347, 20.2884692850247)]\n"
     ]
    },
    {
     "data": {
      "text/plain": [
       "([36.401506912114165,\n",
       "  35.88015754315272,\n",
       "  35.88015754315272,\n",
       "  34.01322098291712,\n",
       "  35.54820810937565,\n",
       "  38.21589394278463,\n",
       "  29.149147866342954,\n",
       "  33.58533904975097,\n",
       "  21.034790827963896,\n",
       "  20.35395502365197,\n",
       "  17.732216975721784,\n",
       "  17.92337507125469,\n",
       "  16.152358857555733,\n",
       "  16.152358857555733,\n",
       "  16.13025370888017,\n",
       "  15.958258760889123,\n",
       "  13.074890783668756,\n",
       "  7.083956175509002,\n",
       "  6.564827752277388,\n",
       "  5.404661965164443,\n",
       "  5.097058217363347],\n",
       " [41.4869412715643,\n",
       "  41.31315814857715,\n",
       "  47.800848390521956,\n",
       "  38.154561960781926,\n",
       "  42.332835298708666,\n",
       "  42.09378646225899,\n",
       "  34.328760796310895,\n",
       "  35.31123172204388,\n",
       "  30.691079779757057,\n",
       "  30.451558560112385,\n",
       "  25.268321807861298,\n",
       "  25.223739748099188,\n",
       "  25.601540604186024,\n",
       "  25.601291651079652,\n",
       "  25.591648613101444,\n",
       "  24.759554224899414,\n",
       "  23.61609487796711,\n",
       "  21.50537853940578,\n",
       "  21.291905257304236,\n",
       "  20.583552166257267,\n",
       "  20.2884692850247])"
      ]
     },
     "execution_count": 5,
     "metadata": {},
     "output_type": "execute_result"
    }
   ],
   "source": [
    "sea_boa_file('test',3,numb_generations, size_pop, size_cromo, prob_mut, tour_sel(tour_size),\n",
    "               recombination, mutation, sel_survivors_elite(elite_percent), fit_rastrigin(dimensions, precision), pop)"
   ]
  }
 ],
 "metadata": {
  "kernelspec": {
   "display_name": "Python 3",
   "language": "python",
   "name": "python3"
  },
  "language_info": {
   "codemirror_mode": {
    "name": "ipython",
    "version": 3
   },
   "file_extension": ".py",
   "mimetype": "text/x-python",
   "name": "python",
   "nbconvert_exporter": "python",
   "pygments_lexer": "ipython3",
   "version": "3.7.4"
  }
 },
 "nbformat": 4,
 "nbformat_minor": 4
}
