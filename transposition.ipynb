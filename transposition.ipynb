{
 "cells": [
  {
   "cell_type": "markdown",
   "metadata": {},
   "source": [
    "# Transposition, a bio-inspired operator"
   ]
  },
  {
   "cell_type": "code",
   "execution_count": 1,
   "metadata": {},
   "outputs": [],
   "source": [
    "from evol_algorithm import *\n",
    "import numpy as np\n",
    "import math"
   ]
  },
  {
   "cell_type": "markdown",
   "metadata": {},
   "source": [
    "## Functions"
   ]
  },
  {
   "cell_type": "code",
   "execution_count": 2,
   "metadata": {},
   "outputs": [],
   "source": [
    "def deJong(indiv):\n",
    "    \"\"\"\n",
    "    quartic = DeJong 1\n",
    "    domain = [-5.12; 5.12]\n",
    "    minimum 0 at (0,....,0)\n",
    "    \"\"\"\n",
    "    y = sum([ x**2 for x in indiv])\n",
    "    return y\n",
    "\n",
    "def rosenbrock(indiv):\n",
    "    \"\"\"\n",
    "    quartic = DeJong 2\n",
    "    domain = [-2.048; 2.048]\n",
    "    minimum 0 at (1,....,1)\n",
    "    \"\"\"\n",
    "#    y = sum([ (1 - x)**2 + 100*(???) for i,x in enumerate(indiv)])\n",
    "# BISOGNA CAPIRE COME SCRIVERE X_i+1\n",
    "    return y\n",
    "\n",
    "def rastrigin(indiv):\n",
    "    \"\"\"\n",
    "    rastrigin function\n",
    "    domain = [-5.12, 5.12]\n",
    "    minimum at (0,....,0)\n",
    "    \"\"\"\n",
    "    n = len(indiv)\n",
    "    A = 10\n",
    "    return A * n + sum([x**2 - A * math.cos(2 * math.pi * x) for x in indiv])\n",
    "    \n",
    "def schwefel(indiv):    \n",
    "    \"\"\"\n",
    "    schwefel function\n",
    "    domain = [-500; 500]\n",
    "    minimum at (420.9687,...,420.9687)\n",
    "    \"\"\"\n",
    "    y = sum([-x * math.sin(math.sqrt(math.fabs(x))) for x in indiv])\n",
    "    return y\n",
    "\n",
    "def quartic(indiv):\n",
    "    \"\"\"\n",
    "    quartic = DeJong 4\n",
    "    domain = [-1.28; 1.28]\n",
    "    minimum 0 at x = 0\n",
    "    \"\"\"\n",
    "    y = sum([ (i+1) * x for i,x in enumerate(indiv)]) + random.uniform(0,1)\n",
    "    return y"
   ]
  },
  {
   "cell_type": "code",
   "execution_count": 3,
   "metadata": {},
   "outputs": [],
   "source": [
    "def merito_r(indiv, dim, prec):\n",
    "    return rastrigin(phenotype(indiv, dim, prec))"
   ]
  },
  {
   "cell_type": "code",
   "execution_count": 15,
   "metadata": {},
   "outputs": [
    {
     "name": "stdout",
     "output_type": "stream",
     "text": [
      "6.143922770869864\n"
     ]
    },
    {
     "data": {
      "text/plain": [
       "[-0.00449,\n",
       " 0.98294,\n",
       " 0.00231,\n",
       " 0.0009,\n",
       " 0.00026,\n",
       " -0.98303,\n",
       " 1.96607,\n",
       " -0.0009,\n",
       " 1e-05,\n",
       " -0.00018]"
      ]
     },
     "execution_count": 15,
     "metadata": {},
     "output_type": "execute_result"
    }
   ],
   "source": [
    "numb_generations = 500\n",
    "size_pop = 100\n",
    "prob_mut = 0.01\n",
    "prob_cross = 0.7\n",
    "tour_size = 3\n",
    "elite_percent = 0.02\n",
    "\n",
    "\n",
    "dimensions = 10\n",
    "max_domain = 5.12\n",
    "precision = 5\n",
    "\n",
    "best = ea(numb_generations, size_pop, prob_mut, prob_cross, tour_sel(tour_size),\n",
    "          uniform_cross, muta_bin, sel_survivors_elite(elite_percent), merito_r,\n",
    "          dimensions, max_domain, precision)\n",
    "print(best[1])\n",
    "phenotype(best[0],dimensions,precision)"
   ]
  },
  {
   "cell_type": "code",
   "execution_count": null,
   "metadata": {},
   "outputs": [],
   "source": []
  }
 ],
 "metadata": {
  "kernelspec": {
   "display_name": "Python 3",
   "language": "python",
   "name": "python3"
  },
  "language_info": {
   "codemirror_mode": {
    "name": "ipython",
    "version": 3
   },
   "file_extension": ".py",
   "mimetype": "text/x-python",
   "name": "python",
   "nbconvert_exporter": "python",
   "pygments_lexer": "ipython3",
   "version": "3.7.4"
  }
 },
 "nbformat": 4,
 "nbformat_minor": 4
}
