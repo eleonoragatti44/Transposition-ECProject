{
 "cells": [
  {
   "cell_type": "markdown",
   "metadata": {},
   "source": [
    "# Transposition, a bio-inspired operator"
   ]
  },
  {
   "cell_type": "code",
   "execution_count": 1,
   "metadata": {},
   "outputs": [],
   "source": [
    "from evol_algorithm import *\n",
    "import numpy as np\n",
    "import matplotlib.pyplot as plt"
   ]
  },
  {
   "cell_type": "markdown",
   "metadata": {},
   "source": [
    "- - - - - - - - - - - - - - - - - - - - - - - - - - - - - - - - - - - - - - - - - - - - - - - - - - - - - "
   ]
  },
  {
   "cell_type": "markdown",
   "metadata": {},
   "source": [
    "## Crossover"
   ]
  },
  {
   "cell_type": "markdown",
   "metadata": {},
   "source": [
    "**Rastrigin Function**"
   ]
  },
  {
   "cell_type": "code",
   "execution_count": 3,
   "metadata": {},
   "outputs": [
    {
     "name": "stdout",
     "output_type": "stream",
     "text": [
      "2.9629288538141267\n",
      "[1.0755, -0.0118, -0.0078, -0.0573, 0.0095]\n"
     ]
    }
   ],
   "source": [
    "# crossover rastrigin\n",
    "numb_generations = 20\n",
    "size_pop = 50\n",
    "prob_mut = 0.01\n",
    "prob_cross = 0.7\n",
    "tour_size = 3\n",
    "elite_percent = 0.02 \n",
    "\n",
    "dimensions = 5\n",
    "max_domain = 5.12\n",
    "precision = 4\n",
    "\n",
    "# we define here all the function problem dependent so we don't need to modify the evolutionary algorithm\n",
    "size_cromo = cromo_len(max_domain, precision)\n",
    "recombination = uniform_cross(prob_cross, max_domain, precision, dimensions)\n",
    "mutation = muta_bin(max_domain, dimensions, precision)\n",
    "pop = gera_pop(max_domain, precision, dimensions)\n",
    "\n",
    "best_sea = sea(numb_generations, size_pop, size_cromo, prob_mut, tour_sel(tour_size),\n",
    "               recombination, mutation, sel_survivors_elite(elite_percent), fit_rastrigin(dimensions, precision), pop)\n",
    "print(best_sea[1])\n",
    "print(phenotype(best_sea[0], dimensions, precision))"
   ]
  },
  {
   "cell_type": "markdown",
   "metadata": {},
   "source": [
    "**Scwefel Function**"
   ]
  },
  {
   "cell_type": "code",
   "execution_count": 5,
   "metadata": {},
   "outputs": [
    {
     "name": "stdout",
     "output_type": "stream",
     "text": [
      "6.483124313114331\n",
      "[420.5144, 420.8332, 418.9828]\n",
      "([0, 1, 0, 0, 0, 0, 0, 0, 0, 0, 1, 0, 1, 0, 1, 0, 0, 1, 0, 1, 1, 0, 0, 0, 0, 1, 0, 0, 0, 0, 0, 0, 0, 0, 1, 1, 0, 1, 1, 0, 1, 1, 0, 0, 1, 1, 0, 0, 0, 0, 1, 1, 1, 1, 1, 1, 1, 1, 1, 0, 1, 1, 1, 0, 1, 0, 0, 0, 0, 1, 0, 0], 6.483124313114331)\n"
     ]
    }
   ],
   "source": [
    "# crossover schwefel\n",
    "numb_generations = 20\n",
    "size_pop = 500\n",
    "prob_mut = 0.01\n",
    "prob_cross = 0.7\n",
    "tour_size = 3\n",
    "elite_percent = 0.03\n",
    "\n",
    "dimensions = 3\n",
    "max_domain = 500\n",
    "precision = 4\n",
    "\n",
    "# we define here all the function problem dependent so we don't need to modify the evolutionary algorithm\n",
    "size_cromo = cromo_len(max_domain, precision)\n",
    "recombination = uniform_cross(prob_cross, max_domain, precision, dimensions)\n",
    "mutation = muta_bin(max_domain, dimensions, precision)\n",
    "pop = gera_pop(max_domain, precision, dimensions)\n",
    "best_schwefel = sea(numb_generations, size_pop, size_cromo, prob_mut, tour_sel(tour_size),\n",
    "               recombination, mutation, sel_survivors_elite(elite_percent), fit_schwefel(dimensions, precision), pop)\n",
    "print(best_schwefel[1])\n",
    "print(phenotype(best_schwefel[0], dimensions, precision))\n",
    "print(best_schwefel)"
   ]
  },
  {
   "cell_type": "code",
   "execution_count": 5,
   "metadata": {},
   "outputs": [
    {
     "name": "stdout",
     "output_type": "stream",
     "text": [
      "19\r"
     ]
    }
   ],
   "source": [
    "#rastring with CROSSOVER for plot\n",
    "\n",
    "numb_generations = 20\n",
    "size_pop = 50\n",
    "prob_mut = 0.01\n",
    "prob_cross = 0.7\n",
    "tour_size = 3\n",
    "elite_percent = 0.02 \n",
    "\n",
    "dimensions = 3\n",
    "max_domain = 5.12\n",
    "precision = 4\n",
    "\n",
    "size_cromo = cromo_len(max_domain, precision)\n",
    "recombination = uniform_cross(prob_cross, max_domain, precision, dimensions)\n",
    "mutation = muta_bin(max_domain, dimensions, precision)\n",
    "pop = gera_pop(max_domain, precision, dimensions)\n",
    "\n",
    "# plot di rastring con crossover\n",
    "best_sea_for_plot = sea_for_plot(numb_generations, size_pop, size_cromo, prob_mut, tour_sel(tour_size),\n",
    "               recombination, mutation, sel_survivors_elite(elite_percent), fit_rastrigin(dimensions, precision), pop)"
   ]
  },
  {
   "cell_type": "code",
   "execution_count": 6,
   "metadata": {},
   "outputs": [
    {
     "data": {
      "text/plain": [
       "[<matplotlib.lines.Line2D at 0x7fad12e01490>]"
      ]
     },
     "execution_count": 6,
     "metadata": {},
     "output_type": "execute_result"
    },
    {
     "data": {
      "image/png": "[encoded data removed]",
      "text/plain": [
       "<Figure size 432x288 with 1 Axes>"
      ]
     },
     "metadata": {
      "needs_background": "light"
     },
     "output_type": "display_data"
    }
   ],
   "source": [
    "plt.plot(best_sea_for_plot[1])\n",
    "plt.plot(best_sea_for_plot[2],'.')"
   ]
  },
  {
   "cell_type": "code",
   "execution_count": 7,
   "metadata": {},
   "outputs": [
    {
     "name": "stdout",
     "output_type": "stream",
     "text": [
      "19\r"
     ]
    }
   ],
   "source": [
    "#rastring with TRANSPOSITION for plot\n",
    "\n",
    "numb_generations = 20\n",
    "size_pop = 50\n",
    "prob_mut = 0.01\n",
    "prob_cross = 0.7\n",
    "tour_size = 3\n",
    "elite_percent = 0.02 \n",
    "\n",
    "dimensions = 6\n",
    "max_domain = 5.12\n",
    "precision = 4\n",
    "\n",
    "size_cromo = cromo_len(max_domain, precision)\n",
    "recombination = transposition(3)\n",
    "mutation = muta_bin(max_domain, dimensions, precision)\n",
    "pop = gera_pop(max_domain, precision, dimensions)\n",
    "\n",
    "# plot di rastring con transposition\n",
    "best_sea_for_plot = sea_for_plot(numb_generations, size_pop, size_cromo, prob_mut, tour_sel(tour_size),\n",
    "               recombination, mutation, sel_survivors_elite(elite_percent), fit_rastrigin(dimensions, precision), pop)"
   ]
  },
  {
   "cell_type": "code",
   "execution_count": 8,
   "metadata": {},
   "outputs": [
    {
     "data": {
      "text/plain": [
       "[<matplotlib.lines.Line2D at 0x7fad132a8650>]"
      ]
     },
     "execution_count": 8,
     "metadata": {},
     "output_type": "execute_result"
    },
    {
     "data": {
      "image/png": "[encoded data removed]",
      "text/plain": [
       "<Figure size 432x288 with 1 Axes>"
      ]
     },
     "metadata": {
      "needs_background": "light"
     },
     "output_type": "display_data"
    }
   ],
   "source": [
    "plt.plot(best_sea_for_plot[1])\n",
    "plt.plot(best_sea_for_plot[2],'.')"
   ]
  },
  {
   "cell_type": "markdown",
   "metadata": {},
   "source": [
    "- - - - - - - - - - - - - - - - - - - - - - - - - - - - - - - - - - - - - - - - - - - - - - - - "
   ]
  },
  {
   "cell_type": "markdown",
   "metadata": {},
   "source": [
    "## Run for file\n",
    "We run the code to store the results in a file for future statistics"
   ]
  },
  {
   "cell_type": "markdown",
   "metadata": {},
   "source": [
    "**CROSSOVER - RASTRIGIN**"
   ]
  },
  {
   "cell_type": "code",
   "execution_count": 6,
   "metadata": {},
   "outputs": [
    {
     "name": "stdout",
     "output_type": "stream",
     "text": [
      "19\r"
     ]
    },
    {
     "data": {
      "text/plain": [
       "([1713.6038203833941,\n",
       "  545.4001641559996,\n",
       "  293.0815880110456,\n",
       "  259.0134773421126,\n",
       "  99.75841883268063,\n",
       "  52.95282120047809,\n",
       "  40.10946726107363,\n",
       "  2.9419068520488416,\n",
       "  2.9419068520488416,\n",
       "  2.9419068520488416,\n",
       "  2.9419068520488416,\n",
       "  2.588142384065751,\n",
       "  2.1968929727684454,\n",
       "  0.533982627229868,\n",
       "  0.533982627229868,\n",
       "  0.22041196966599585,\n",
       "  0.22041196966599585,\n",
       "  0.19814742921381878,\n",
       "  0.09127937903701167,\n",
       "  0.0383513908723927,\n",
       "  0.01540413336603308],\n",
       " [2765.0152041891597,\n",
       "  2029.572950078403,\n",
       "  449.165078775528,\n",
       "  353.7028498375657,\n",
       "  140.2187612838505,\n",
       "  69.58808532453202,\n",
       "  51.140399281202214,\n",
       "  26.862159731322873,\n",
       "  13.665583292554778,\n",
       "  7.1607408678674185,\n",
       "  6.850522101759491,\n",
       "  5.413979015403452,\n",
       "  3.990630152843117,\n",
       "  2.6038030240879415,\n",
       "  2.3704878161787413,\n",
       "  1.0517217107751347,\n",
       "  0.9516553703105698,\n",
       "  0.6607778135696805,\n",
       "  0.6248108128790454,\n",
       "  0.502222274798072,\n",
       "  0.3924514441605342])"
      ]
     },
     "execution_count": 6,
     "metadata": {},
     "output_type": "execute_result"
    }
   ],
   "source": [
    "sea_boa_file('test',3,numb_generations, size_pop, size_cromo, prob_mut, tour_sel(tour_size),\n",
    "               recombination, mutation, sel_survivors_elite(elite_percent), fit_rastrigin(dimensions, precision), pop)"
   ]
  },
  {
   "cell_type": "code",
   "execution_count": null,
   "metadata": {},
   "outputs": [],
   "source": []
  }
 ],
 "metadata": {
  "kernelspec": {
   "display_name": "Python 3",
   "language": "python",
   "name": "python3"
  },
  "language_info": {
   "codemirror_mode": {
    "name": "ipython",
    "version": 3
   },
   "file_extension": ".py",
   "mimetype": "text/x-python",
   "name": "python",
   "nbconvert_exporter": "python",
   "pygments_lexer": "ipython3",
   "version": "3.7.4"
  }
 },
 "nbformat": 4,
 "nbformat_minor": 4
}
