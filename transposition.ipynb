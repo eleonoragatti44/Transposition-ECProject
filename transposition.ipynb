{
 "cells": [
  {
   "cell_type": "markdown",
   "metadata": {},
   "source": [
    "# Transposition, a bio-inspired operator\n",
    "\n",
    "This notebook is based on the algorithms stored in `evol_algorithm.py` file.\n",
    "\n",
    "## Evolutionary Algorithm\n",
    "\n",
    "We run an evolutionary algorithm and evaluate the performance for two different recombination operator: Uniform Crossover and Transposition."
   ]
  },
  {
   "cell_type": "code",
   "execution_count": 1,
   "metadata": {},
   "outputs": [],
   "source": [
    "from evol_algorithm import *\n",
    "import numpy as np\n",
    "import matplotlib.pyplot as plt\n",
    "import pandas as pd"
   ]
  },
  {
   "cell_type": "markdown",
   "metadata": {},
   "source": [
    "- - - - - - - - - - - - - - - - - - - - - - - - - - - - - - - - - - - - - - - - - - - - - - - - - - - - - "
   ]
  },
  {
   "cell_type": "markdown",
   "metadata": {},
   "source": [
    "## Runs\n",
    "\n",
    "We use three different functions to test our algorithm.\n",
    "\n",
    "For some parameters we use the same value for all the runs, so we define them before running the evolutionary algorithms. Furthermore we use the same population for every run.\n",
    "\n",
    "**PARAMETERS:**"
   ]
  },
  {
   "cell_type": "code",
   "execution_count": 4,
   "metadata": {},
   "outputs": [],
   "source": [
    "numb_runs = 30\n",
    "numb_generations = 500\n",
    "size_pop = 100\n",
    "prob_mut = 0.02\n",
    "prob_cross = 0.7\n",
    "tour_size = 3\n",
    "elite_percent = 0.02\n",
    "dimensions = 20\n",
    "precision = 3"
   ]
  },
  {
   "cell_type": "markdown",
   "metadata": {},
   "source": [
    "## RASTIRIGIN"
   ]
  },
  {
   "cell_type": "code",
   "execution_count": 3,
   "metadata": {},
   "outputs": [],
   "source": [
    "# problem dependent parameters\n",
    "max_domain = 5.12\n",
    "filename = 'rastrigin_crossover'\n",
    "fitness = fit_rastrigin(dimensions, precision)\n",
    "mutation = muta_bin(max_domain, dimensions, precision)\n",
    "\n",
    "'''\n",
    "Return population from file\n",
    "'''\n",
    "\n",
    "pop_init = read_init_pop('init_pop_rastrigin.dat')"
   ]
  },
  {
   "cell_type": "markdown",
   "metadata": {},
   "source": [
    "**CROSSOVER**\n",
    "\n",
    "We first define the problem dependent parameters and generate the initial population in order to have the same initial conditions."
   ]
  },
  {
   "cell_type": "code",
   "execution_count": 6,
   "metadata": {},
   "outputs": [
    {
     "name": "stdout",
     "output_type": "stream",
     "text": [
      "CPU times: user 2.96 s, sys: 97.4 ms, total: 3.06 s\n",
      "Wall time: 3.41 s\n"
     ]
    }
   ],
   "source": [
    "%%time\n",
    "\n",
    "recombination = uniform_cross(prob_cross, max_domain, precision, dimensions)\n",
    "run_file(filename, numb_runs, numb_generations, pop_init, size_pop, prob_mut,\n",
    "         tour_sel(tour_size), recombination, mutation, sel_survivors_elite(elite_percent), fitness)"
   ]
  },
  {
   "cell_type": "markdown",
   "metadata": {},
   "source": [
    "**TRANSPOSITION**"
   ]
  },
  {
   "cell_type": "code",
   "execution_count": 5,
   "metadata": {},
   "outputs": [
    {
     "name": "stdout",
     "output_type": "stream",
     "text": [
      "CPU times: user 1h 18min 45s, sys: 4.34 s, total: 1h 18min 49s\n",
      "Wall time: 1h 18min 49s\n"
     ]
    }
   ],
   "source": [
    "%%time\n",
    "\n",
    "flank_size = [6]\n",
    "\n",
    "for f_s in flank_size:\n",
    "    filename = 'rastrigin_transposition_'+str(f_s)\n",
    "    recombination = transposition(f_s)\n",
    "    run_file(filename, numb_runs, numb_generations, pop_init, size_pop, prob_mut,\n",
    "         tour_sel(tour_size), recombination, mutation, sel_survivors_elite(elite_percent), fitness)"
   ]
  },
  {
   "cell_type": "markdown",
   "metadata": {},
   "source": [
    "- - - - - -"
   ]
  },
  {
   "cell_type": "markdown",
   "metadata": {},
   "source": [
    "## FZ ???"
   ]
  },
  {
   "cell_type": "markdown",
   "metadata": {},
   "source": [
    "**CROSSOVER**"
   ]
  },
  {
   "cell_type": "code",
   "execution_count": 3,
   "metadata": {},
   "outputs": [],
   "source": [
    "# problem dependent parameters\n",
    "max_domain = 5.12\n",
    "recombination = uniform_cross(prob_cross, max_domain, precision, dimensions)\n",
    "filename = '???_crossover'\n",
    "fitness = fit_???(dimensions, precision)\n",
    "\n",
    "'''\n",
    "Not to change when copy and paste\n",
    "'''\n",
    "size_cromo = cromo_len(max_domain, precision)\n",
    "mutation = muta_bin(max_domain, dimensions, precision)\n",
    "pop = gera_pop(max_domain, precision, dimensions) # initialize population\n",
    "pop_init????"
   ]
  },
  {
   "cell_type": "code",
   "execution_count": 4,
   "metadata": {},
   "outputs": [
    {
     "name": "stdout",
     "output_type": "stream",
     "text": [
      "CPU times: user 18.6 s, sys: 185 ms, total: 18.8 s\n",
      "Wall time: 19 s\n"
     ]
    }
   ],
   "source": [
    "%%time\n",
    "\n",
    "run_file(filename, numb_runs, numb_generations, pop_init, size_pop, prob_mut,\n",
    "         tour_sel(tour_size), recombination, mutation, sel_survivors_elite(elite_percent), fitness)"
   ]
  },
  {
   "cell_type": "markdown",
   "metadata": {},
   "source": [
    "**TRANSPOSITION**"
   ]
  },
  {
   "cell_type": "code",
   "execution_count": null,
   "metadata": {},
   "outputs": [
    {
     "name": "stdout",
     "output_type": "stream",
     "text": [
      "13\r"
     ]
    }
   ],
   "source": [
    "%%time\n",
    "\n",
    "flank_size = [2, 3, 4, 5, 6, 7, 8, 9, 10]\n",
    "\n",
    "for f_s in flank_size:\n",
    "    filename = '???_transposition_'+str(f_s)\n",
    "    recombination = transposition(f_s)\n",
    "    run_file(filename, numb_runs, numb_generations, pop_init, size_pop, prob_mut,\n",
    "         tour_sel(tour_size), recombination, mutation, sel_survivors_elite(elite_percent), fitness)"
   ]
  },
  {
   "cell_type": "code",
   "execution_count": null,
   "metadata": {},
   "outputs": [],
   "source": []
  },
  {
   "cell_type": "code",
   "execution_count": null,
   "metadata": {},
   "outputs": [],
   "source": []
  },
  {
   "cell_type": "code",
   "execution_count": null,
   "metadata": {},
   "outputs": [],
   "source": []
  },
  {
   "cell_type": "markdown",
   "metadata": {},
   "source": [
    "---"
   ]
  },
  {
   "cell_type": "markdown",
   "metadata": {},
   "source": [
    "---"
   ]
  },
  {
   "cell_type": "markdown",
   "metadata": {},
   "source": [
    "---"
   ]
  },
  {
   "cell_type": "code",
   "execution_count": 40,
   "metadata": {},
   "outputs": [],
   "source": [
    "x=get_data('Results/rastrigin_transposition_3.dat')\n",
    "y=get_data('Results/rastrigin_crossover.dat')"
   ]
  },
  {
   "cell_type": "code",
   "execution_count": 42,
   "metadata": {},
   "outputs": [
    {
     "data": {
      "text/plain": [
       "(-0.5, 20)"
      ]
     },
     "execution_count": 42,
     "metadata": {},
     "output_type": "execute_result"
    },
    {
     "data": {
      "image/png": "[encoded data removed]",
      "text/plain": [
       "<Figure size 432x288 with 1 Axes>"
      ]
     },
     "metadata": {
      "needs_background": "light"
     },
     "output_type": "display_data"
    }
   ],
   "source": [
    "plt.plot(x[0])\n",
    "plt.plot(x[1])\n",
    "\n",
    "plt.plot(y[0])\n",
    "plt.plot(y[1])\n",
    "\n",
    "plt.xlim(0,500)\n",
    "plt.ylim(-0.5,20)"
   ]
  },
  {
   "cell_type": "code",
   "execution_count": 95,
   "metadata": {},
   "outputs": [
    {
     "data": {
      "text/plain": [
       "(0, 200)"
      ]
     },
     "execution_count": 95,
     "metadata": {},
     "output_type": "execute_result"
    },
    {
     "data": {
      "image/png": "[encoded data removed]",
      "text/plain": [
       "<Figure size 720x576 with 1 Axes>"
      ]
     },
     "metadata": {
      "needs_background": "light"
     },
     "output_type": "display_data"
    }
   ],
   "source": [
    "fs3 = get_data('Results/rastrigin_transposition_3.dat')\n",
    "fs6 = get_data('Results/rastrigin_transposition_6.dat')\n",
    "fs9 = get_data('Results/rastrigin_transposition_9.dat')\n",
    "fs12 = get_data('Results/rastrigin_transposition_12.dat')\n",
    "fs15 = get_data('Results/rastrigin_transposition_15.dat')\n",
    "fs18 = get_data('Results/rastrigin_transposition_18.dat')\n",
    "\n",
    "plt.rcParams[\"figure.figsize\"] = (10,8)\n",
    "plt.rc('legend',fontsize=20)\n",
    "\n",
    "plt.plot(fs3[0], label='3 - boa')\n",
    "#plt.plot(fs3[1], label='3 - ave')\n",
    "\n",
    "plt.plot(fs6[0], label='6 - boa')\n",
    "#plt.plot(fs6[1], label='6 - ave')\n",
    "\n",
    "plt.plot(fs9[0], label='9 - boa')\n",
    "#plt.plot(fs9[1], label='9 - ave')\n",
    "\n",
    "plt.plot(fs15[0], label='15 - boa')\n",
    "#plt.plot(fs15[1], label='15 - ave')\n",
    "\n",
    "\n",
    "plt.legend()\n",
    "plt.xlim(0,400)\n",
    "plt.ylim(0,200)"
   ]
  },
  {
   "cell_type": "code",
   "execution_count": 98,
   "metadata": {},
   "outputs": [
    {
     "data": {
      "image/png": "[encoded data removed]",
      "text/plain": [
       "<Figure size 720x576 with 1 Axes>"
      ]
     },
     "metadata": {
      "needs_background": "light"
     },
     "output_type": "display_data"
    }
   ],
   "source": [
    "#plt.boxplot([fs3[0], fs6[0],fs9[0],fs12[0], fs15[0]], notch=True);\n",
    "plt.boxplot([fs3[1], fs6[1], fs9[1], fs12[1], fs15[1]], notch=True, showfliers=False);\n"
   ]
  },
  {
   "cell_type": "code",
   "execution_count": null,
   "metadata": {},
   "outputs": [],
   "source": []
  }
 ],
 "metadata": {
  "kernelspec": {
   "display_name": "Python 3",
   "language": "python",
   "name": "python3"
  },
  "language_info": {
   "codemirror_mode": {
    "name": "ipython",
    "version": 3
   },
   "file_extension": ".py",
   "mimetype": "text/x-python",
   "name": "python",
   "nbconvert_exporter": "python",
   "pygments_lexer": "ipython3",
   "version": "3.7.4"
  }
 },
 "nbformat": 4,
 "nbformat_minor": 4
}
