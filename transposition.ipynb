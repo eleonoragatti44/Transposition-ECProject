{
 "cells": [
  {
   "cell_type": "markdown",
   "metadata": {},
   "source": [
    "# Transposition, a bio-inspired operator"
   ]
  },
  {
   "cell_type": "code",
   "execution_count": 1,
   "metadata": {},
   "outputs": [],
   "source": [
    "from evol_algorithm import *\n",
    "import numpy as np\n",
    "import math"
   ]
  },
  {
   "cell_type": "markdown",
   "metadata": {},
   "source": [
    "## Functions"
   ]
  },
  {
   "cell_type": "code",
   "execution_count": 2,
   "metadata": {},
   "outputs": [],
   "source": [
    "def deJong(indiv):\n",
    "    \"\"\"\n",
    "    quartic = DeJong 1\n",
    "    domain = [-5.12; 5.12]\n",
    "    minimum 0 at (0,....,0)\n",
    "    \"\"\"\n",
    "    y = sum([ x**2 for x in indiv])\n",
    "    return y\n",
    "\n",
    "def rosenbrock(indiv):\n",
    "    \"\"\"\n",
    "    quartic = DeJong 2\n",
    "    domain = [-2.048; 2.048]\n",
    "    minimum 0 at (1,....,1)\n",
    "    \"\"\"\n",
    "#    y = sum([ (1 - x)**2 + 100*(???) for i,x in enumerate(indiv)])\n",
    "# BISOGNA CAPIRE COME SCRIVERE X_i+1\n",
    "    return y\n",
    "\n",
    "def rastrigin(indiv):\n",
    "    \"\"\"\n",
    "    rastrigin function\n",
    "    domain = [-5.12, 5.12]\n",
    "    minimum at (0,....,0)\n",
    "    \"\"\"\n",
    "    n = len(indiv)\n",
    "    A = 10\n",
    "    return A * n + sum([x**2 - A * math.cos(2 * math.pi * x) for x in indiv])\n",
    "    \n",
    "def schwefel(indiv):    \n",
    "    \"\"\"\n",
    "    schwefel function\n",
    "    domain = [-500; 500]\n",
    "    minimum at (420.9687,...,420.9687)\n",
    "    \"\"\"\n",
    "    y = sum([-x * math.sin(math.sqrt(math.fabs(x))) for x in indiv])\n",
    "    return y\n",
    "\n",
    "def quartic(indiv):\n",
    "    \"\"\"\n",
    "    quartic = DeJong 4\n",
    "    domain = [-1.28; 1.28]\n",
    "    minimum 0 at x = 0\n",
    "    \"\"\"\n",
    "    y = sum([ (i+1) * x for i,x in enumerate(indiv)]) + random.uniform(0,1)\n",
    "    return y"
   ]
  },
  {
   "cell_type": "code",
   "execution_count": 3,
   "metadata": {},
   "outputs": [],
   "source": [
    "def merito_r(indiv, dim, prec):\n",
    "    return rastrigin(phenotype(indiv, dim, prec))"
   ]
  },
  {
   "cell_type": "code",
   "execution_count": 30,
   "metadata": {},
   "outputs": [
    {
     "ename": "OverflowError",
     "evalue": "integer division result too large for a float",
     "output_type": "error",
     "traceback": [
      "\u001b[0;31m---------------------------------------------------------------------------\u001b[0m",
      "\u001b[0;31mOverflowError\u001b[0m                             Traceback (most recent call last)",
      "\u001b[0;32m<ipython-input-30-069e3614ce84>\u001b[0m in \u001b[0;36m<module>\u001b[0;34m\u001b[0m\n\u001b[1;32m     13\u001b[0m best = ea(numb_generations, size_pop, prob_mut, prob_cross, tour_sel(tour_size),\n\u001b[1;32m     14\u001b[0m           \u001b[0muniform_cross\u001b[0m\u001b[0;34m,\u001b[0m \u001b[0mmuta_bin\u001b[0m\u001b[0;34m,\u001b[0m \u001b[0msel_survivors_elite\u001b[0m\u001b[0;34m(\u001b[0m\u001b[0melite_percent\u001b[0m\u001b[0;34m)\u001b[0m\u001b[0;34m,\u001b[0m \u001b[0mmerito_r\u001b[0m\u001b[0;34m,\u001b[0m\u001b[0;34m\u001b[0m\u001b[0;34m\u001b[0m\u001b[0m\n\u001b[0;32m---> 15\u001b[0;31m           dimensions, max_domain, precision)\n\u001b[0m\u001b[1;32m     16\u001b[0m \u001b[0mprint\u001b[0m\u001b[0;34m(\u001b[0m\u001b[0mbest\u001b[0m\u001b[0;34m[\u001b[0m\u001b[0;36m1\u001b[0m\u001b[0;34m]\u001b[0m\u001b[0;34m)\u001b[0m\u001b[0;34m\u001b[0m\u001b[0;34m\u001b[0m\u001b[0m\n\u001b[1;32m     17\u001b[0m \u001b[0mphenotype\u001b[0m\u001b[0;34m(\u001b[0m\u001b[0mbest\u001b[0m\u001b[0;34m[\u001b[0m\u001b[0;36m0\u001b[0m\u001b[0;34m]\u001b[0m\u001b[0;34m,\u001b[0m\u001b[0;36m2\u001b[0m\u001b[0;34m,\u001b[0m\u001b[0;36m2\u001b[0m\u001b[0;34m)\u001b[0m\u001b[0;34m\u001b[0m\u001b[0;34m\u001b[0m\u001b[0m\n",
      "\u001b[0;32m~/Università/Coimbra/evolutionary computation/Progetto/EvolutionaryComputationProject/evol_algorithm.py\u001b[0m in \u001b[0;36mea\u001b[0;34m(numb_generations, size_pop, prob_mut, prob_cross, sel_parents, recombination, mutation, sel_survivors, fitness_func, dimension, max_domain, precision)\u001b[0m\n\u001b[1;32m    196\u001b[0m             \u001b[0mindiv_1\u001b[0m\u001b[0;34m=\u001b[0m \u001b[0mmate_pool\u001b[0m\u001b[0;34m[\u001b[0m\u001b[0mi\u001b[0m\u001b[0;34m]\u001b[0m\u001b[0;34m\u001b[0m\u001b[0;34m\u001b[0m\u001b[0m\n\u001b[1;32m    197\u001b[0m             \u001b[0mindiv_2\u001b[0m \u001b[0;34m=\u001b[0m \u001b[0mmate_pool\u001b[0m\u001b[0;34m[\u001b[0m\u001b[0mi\u001b[0m\u001b[0;34m+\u001b[0m\u001b[0;36m1\u001b[0m\u001b[0;34m]\u001b[0m\u001b[0;34m\u001b[0m\u001b[0;34m\u001b[0m\u001b[0m\n\u001b[0;32m--> 198\u001b[0;31m             \u001b[0mfilhos\u001b[0m \u001b[0;34m=\u001b[0m \u001b[0mrecombination\u001b[0m\u001b[0;34m(\u001b[0m\u001b[0mindiv_1\u001b[0m\u001b[0;34m,\u001b[0m\u001b[0mindiv_2\u001b[0m\u001b[0;34m,\u001b[0m \u001b[0mprob_cross\u001b[0m\u001b[0;34m,\u001b[0m\u001b[0mmax_domain\u001b[0m\u001b[0;34m,\u001b[0m\u001b[0mprecision\u001b[0m\u001b[0;34m,\u001b[0m\u001b[0mdimension\u001b[0m\u001b[0;34m)\u001b[0m\u001b[0;34m\u001b[0m\u001b[0;34m\u001b[0m\u001b[0m\n\u001b[0m\u001b[1;32m    199\u001b[0m             \u001b[0mprogenitores\u001b[0m\u001b[0;34m.\u001b[0m\u001b[0mextend\u001b[0m\u001b[0;34m(\u001b[0m\u001b[0mfilhos\u001b[0m\u001b[0;34m)\u001b[0m\u001b[0;34m\u001b[0m\u001b[0;34m\u001b[0m\u001b[0m\n\u001b[1;32m    200\u001b[0m         \u001b[0;31m# ------ Mutation\u001b[0m\u001b[0;34m\u001b[0m\u001b[0;34m\u001b[0m\u001b[0;34m\u001b[0m\u001b[0m\n",
      "\u001b[0;32m~/Università/Coimbra/evolutionary computation/Progetto/EvolutionaryComputationProject/evol_algorithm.py\u001b[0m in \u001b[0;36muniform_cross\u001b[0;34m(indiv_1, indiv_2, prob_cross, max_domain, precision, dimension)\u001b[0m\n\u001b[1;32m    140\u001b[0m                     \u001b[0mf1\u001b[0m\u001b[0;34m.\u001b[0m\u001b[0mappend\u001b[0m\u001b[0;34m(\u001b[0m\u001b[0mcromo_2\u001b[0m\u001b[0;34m[\u001b[0m\u001b[0mi\u001b[0m\u001b[0;34m]\u001b[0m\u001b[0;34m)\u001b[0m\u001b[0;34m\u001b[0m\u001b[0;34m\u001b[0m\u001b[0m\n\u001b[1;32m    141\u001b[0m                     \u001b[0mf2\u001b[0m\u001b[0;34m.\u001b[0m\u001b[0mappend\u001b[0m\u001b[0;34m(\u001b[0m\u001b[0mcromo_1\u001b[0m\u001b[0;34m[\u001b[0m\u001b[0mi\u001b[0m\u001b[0;34m]\u001b[0m\u001b[0;34m)\u001b[0m\u001b[0;34m\u001b[0m\u001b[0;34m\u001b[0m\u001b[0m\n\u001b[0;32m--> 142\u001b[0;31m             \u001b[0mpheno1\u001b[0m \u001b[0;34m=\u001b[0m \u001b[0mphenotype\u001b[0m\u001b[0;34m(\u001b[0m\u001b[0mf1\u001b[0m\u001b[0;34m,\u001b[0m\u001b[0mdimension\u001b[0m\u001b[0;34m,\u001b[0m\u001b[0mprecision\u001b[0m\u001b[0;34m)\u001b[0m\u001b[0;34m\u001b[0m\u001b[0;34m\u001b[0m\u001b[0m\n\u001b[0m\u001b[1;32m    143\u001b[0m             \u001b[0mpheno2\u001b[0m \u001b[0;34m=\u001b[0m \u001b[0mphenotype\u001b[0m\u001b[0;34m(\u001b[0m\u001b[0mf2\u001b[0m\u001b[0;34m,\u001b[0m\u001b[0mdimension\u001b[0m\u001b[0;34m,\u001b[0m\u001b[0mprecision\u001b[0m\u001b[0;34m)\u001b[0m\u001b[0;34m\u001b[0m\u001b[0;34m\u001b[0m\u001b[0m\n\u001b[1;32m    144\u001b[0m             \u001b[0mpheno\u001b[0m \u001b[0;34m=\u001b[0m \u001b[0mpheno1\u001b[0m\u001b[0;34m+\u001b[0m\u001b[0mpheno2\u001b[0m\u001b[0;34m\u001b[0m\u001b[0;34m\u001b[0m\u001b[0m\n",
      "\u001b[0;32m~/Università/Coimbra/evolutionary computation/Progetto/EvolutionaryComputationProject/evol_algorithm.py\u001b[0m in \u001b[0;36mphenotype\u001b[0;34m(geno, dimension, precision)\u001b[0m\n\u001b[1;32m     48\u001b[0m     \u001b[0mlen_mono_cromo\u001b[0m \u001b[0;34m=\u001b[0m \u001b[0mint\u001b[0m\u001b[0;34m(\u001b[0m\u001b[0mlen\u001b[0m\u001b[0;34m(\u001b[0m\u001b[0mgeno\u001b[0m\u001b[0;34m)\u001b[0m\u001b[0;34m/\u001b[0m\u001b[0mdimension\u001b[0m\u001b[0;34m)\u001b[0m\u001b[0;34m\u001b[0m\u001b[0;34m\u001b[0m\u001b[0m\n\u001b[1;32m     49\u001b[0m     \u001b[0;32mfor\u001b[0m \u001b[0mi\u001b[0m \u001b[0;32min\u001b[0m \u001b[0mrange\u001b[0m\u001b[0;34m(\u001b[0m\u001b[0;36m0\u001b[0m\u001b[0;34m,\u001b[0m \u001b[0mlen\u001b[0m\u001b[0;34m(\u001b[0m\u001b[0mgeno\u001b[0m\u001b[0;34m)\u001b[0m\u001b[0;34m,\u001b[0m \u001b[0mlen_mono_cromo\u001b[0m\u001b[0;34m)\u001b[0m\u001b[0;34m:\u001b[0m\u001b[0;34m\u001b[0m\u001b[0;34m\u001b[0m\u001b[0m\n\u001b[0;32m---> 50\u001b[0;31m         \u001b[0mpheno\u001b[0m\u001b[0;34m.\u001b[0m\u001b[0mappend\u001b[0m\u001b[0;34m(\u001b[0m\u001b[0mbin_to_float\u001b[0m\u001b[0;34m(\u001b[0m\u001b[0mgeno\u001b[0m\u001b[0;34m[\u001b[0m\u001b[0mi\u001b[0m\u001b[0;34m:\u001b[0m\u001b[0mi\u001b[0m\u001b[0;34m+\u001b[0m\u001b[0mlen_mono_cromo\u001b[0m\u001b[0;34m]\u001b[0m\u001b[0;34m,\u001b[0m \u001b[0mprecision\u001b[0m\u001b[0;34m)\u001b[0m\u001b[0;34m)\u001b[0m\u001b[0;34m\u001b[0m\u001b[0;34m\u001b[0m\u001b[0m\n\u001b[0m\u001b[1;32m     51\u001b[0m     \u001b[0;32mreturn\u001b[0m \u001b[0mpheno\u001b[0m\u001b[0;34m\u001b[0m\u001b[0;34m\u001b[0m\u001b[0m\n\u001b[1;32m     52\u001b[0m \u001b[0;34m\u001b[0m\u001b[0m\n",
      "\u001b[0;32m~/Università/Coimbra/evolutionary computation/Progetto/EvolutionaryComputationProject/evol_algorithm.py\u001b[0m in \u001b[0;36mbin_to_float\u001b[0;34m(numb, prec)\u001b[0m\n\u001b[1;32m     41\u001b[0m     \u001b[0mnumb\u001b[0m \u001b[0;34m=\u001b[0m \u001b[0mnumb\u001b[0m\u001b[0;34m[\u001b[0m\u001b[0;36m1\u001b[0m\u001b[0;34m:\u001b[0m\u001b[0;34m]\u001b[0m\u001b[0;34m\u001b[0m\u001b[0;34m\u001b[0m\u001b[0m\n\u001b[1;32m     42\u001b[0m     \u001b[0mnumb\u001b[0m \u001b[0;34m=\u001b[0m \u001b[0;34m''\u001b[0m\u001b[0;34m.\u001b[0m\u001b[0mjoin\u001b[0m\u001b[0;34m(\u001b[0m\u001b[0mstr\u001b[0m\u001b[0;34m(\u001b[0m\u001b[0mi\u001b[0m\u001b[0;34m)\u001b[0m \u001b[0;32mfor\u001b[0m \u001b[0mi\u001b[0m \u001b[0;32min\u001b[0m \u001b[0mnumb\u001b[0m\u001b[0;34m)\u001b[0m\u001b[0;34m\u001b[0m\u001b[0;34m\u001b[0m\u001b[0m\n\u001b[0;32m---> 43\u001b[0;31m     \u001b[0mapprox_numb\u001b[0m \u001b[0;34m=\u001b[0m \u001b[0mint\u001b[0m\u001b[0;34m(\u001b[0m\u001b[0mnumb\u001b[0m\u001b[0;34m,\u001b[0m\u001b[0;36m2\u001b[0m\u001b[0;34m)\u001b[0m\u001b[0;34m/\u001b[0m\u001b[0;34m(\u001b[0m\u001b[0;36m10\u001b[0m\u001b[0;34m**\u001b[0m\u001b[0mprec\u001b[0m\u001b[0;34m)\u001b[0m\u001b[0;34m\u001b[0m\u001b[0;34m\u001b[0m\u001b[0m\n\u001b[0m\u001b[1;32m     44\u001b[0m     \u001b[0;32mreturn\u001b[0m\u001b[0;34m(\u001b[0m\u001b[0mapprox_numb\u001b[0m \u001b[0;34m*\u001b[0m \u001b[0msign\u001b[0m\u001b[0;34m)\u001b[0m\u001b[0;34m\u001b[0m\u001b[0;34m\u001b[0m\u001b[0m\n\u001b[1;32m     45\u001b[0m \u001b[0;34m\u001b[0m\u001b[0m\n",
      "\u001b[0;31mOverflowError\u001b[0m: integer division result too large for a float"
     ]
    }
   ],
   "source": [
    "numb_generations = 100\n",
    "size_pop = 100\n",
    "prob_mut = 0.01\n",
    "prob_cross = 0.7\n",
    "tour_size = 3\n",
    "elite_percent = 0.02\n",
    "\n",
    "\n",
    "dimensions = 2\n",
    "max_domain = 5.12\n",
    "precision = 3\n",
    "\n",
    "best = ea(numb_generations, size_pop, prob_mut, prob_cross, tour_sel(tour_size),\n",
    "          uniform_cross, muta_bin, sel_survivors_elite(elite_percent), merito_r,\n",
    "          dimensions, max_domain, precision)\n",
    "print(best[1])\n",
    "phenotype(best[0],2,2)"
   ]
  },
  {
   "cell_type": "code",
   "execution_count": 18,
   "metadata": {},
   "outputs": [
    {
     "data": {
      "text/plain": [
       "24808209920334.617"
      ]
     },
     "execution_count": 18,
     "metadata": {},
     "output_type": "execute_result"
    }
   ],
   "source": [
    "int('11010111001011010100101010101101010010000100101010101000101011110101',2)/10000000"
   ]
  },
  {
   "cell_type": "code",
   "execution_count": 32,
   "metadata": {},
   "outputs": [
    {
     "data": {
      "text/plain": [
       "-5996.33573"
      ]
     },
     "execution_count": 32,
     "metadata": {},
     "output_type": "execute_result"
    }
   ],
   "source": [
    "bin_to_float([1,0,0,0,1,0,0,0,1,1,1,0,1,1,1,1,0,1,1,0,1,0,1,1,1,0,1,0,1,0,0,1,0,1],5)"
   ]
  },
  {
   "cell_type": "code",
   "execution_count": null,
   "metadata": {},
   "outputs": [],
   "source": []
  }
 ],
 "metadata": {
  "kernelspec": {
   "display_name": "Python 3",
   "language": "python",
   "name": "python3"
  },
  "language_info": {
   "codemirror_mode": {
    "name": "ipython",
    "version": 3
   },
   "file_extension": ".py",
   "mimetype": "text/x-python",
   "name": "python",
   "nbconvert_exporter": "python",
   "pygments_lexer": "ipython3",
   "version": "3.7.4"
  }
 },
 "nbformat": 4,
 "nbformat_minor": 4
}
