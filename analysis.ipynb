{
 "cells": [
  {
   "cell_type": "markdown",
   "metadata": {},
   "source": [
    "# Transposition, a bio-inspired operator"
   ]
  },
  {
   "cell_type": "code",
   "execution_count": 1,
   "metadata": {},
   "outputs": [],
   "source": [
    "from evol_algorithm import *\n",
    "from statistics import *\n",
    "import numpy as np\n",
    "import matplotlib.pyplot as plt\n",
    "import pandas as pd"
   ]
  },
  {
   "cell_type": "markdown",
   "metadata": {},
   "source": [
    "---\n",
    "---\n",
    "---"
   ]
  },
  {
   "cell_type": "markdown",
   "metadata": {},
   "source": [
    "## Statistics"
   ]
  },
  {
   "cell_type": "code",
   "execution_count": 27,
   "metadata": {},
   "outputs": [
    {
     "name": "stdout",
     "output_type": "stream",
     "text": [
      "Shapiro-Wilk Test:\n",
      "\n",
      "FS3:\t7.766377818629877e-12\n",
      "FS6:\t8.587105852775334e-12\n",
      "FS9:\t7.848418963340986e-12\n",
      "FS12:\t1.0788290865093586e-06\n",
      "FS15:\t8.708299787940632e-07\n",
      "FS18:\t5.987064177759294e-10\n",
      "\n",
      "Levene Test: 3.078203095290088e-16\n"
     ]
    }
   ],
   "source": [
    "fs3 = get_data('Results/D12/rastrigin_transposition_3_bea.dat')\n",
    "fs6 = get_data('Results/D12/rastrigin_transposition_6_bea.dat')\n",
    "fs9 = get_data('Results/D12/rastrigin_transposition_9_bea.dat')\n",
    "fs12 = get_data('Results/D12/rastrigin_transposition_12_bea.dat')\n",
    "fs15 = get_data('Results/D12/rastrigin_transposition_15_bea.dat')\n",
    "fs18 = get_data('Results/D12/rastrigin_transposition_18_bea.dat')\n",
    "\n",
    "\"\"\"Shapiro-Wilk\"\"\"\n",
    "sw3 = test_normal_sw(fs3)\n",
    "sw6 = test_normal_sw(fs6)\n",
    "sw9 = test_normal_sw(fs9)\n",
    "sw12 = test_normal_sw(fs12)\n",
    "sw15 = test_normal_sw(fs15)\n",
    "sw18 = test_normal_sw(fs18)\n",
    "\n",
    "\n",
    "\"\"\"Kolgomorov-Smirnov\"\"\"\n",
    "ks3 = test_normal_ks(fs3)\n",
    "ks6 = test_normal_ks(fs6)\n",
    "ks9 = test_normal_ks(fs9)\n",
    "ks12 = test_normal_ks(fs12)\n",
    "ks15 = test_normal_ks(fs15)\n",
    "ks18 = test_normal_ks(fs18)\n",
    "\n",
    "\"\"\"Levene\"\"\"\n",
    "lev = levene((fs3, fs6, fs9, fs12, fs15, fs18))\n",
    "\n",
    "print('Shapiro-Wilk Test:\\n\\nFS3:\\t%s\\nFS6:\\t%s\\nFS9:\\t%s\\nFS12:\\t%s\\nFS15:\\t%s\\nFS18:\\t%s' % (sw3[1], sw6[1], sw9[1], sw12[1], sw15[1], sw18[1]))\n",
    "print('\\nLevene Test: %s' % (lev[1]))"
   ]
  },
  {
   "cell_type": "markdown",
   "metadata": {},
   "source": [
    "$$p_{value} < 0.05$$\n",
    "We choose a non-parametric test\n",
    "\n",
    "## Friedman ANOVA"
   ]
  },
  {
   "cell_type": "code",
   "execution_count": 9,
   "metadata": {},
   "outputs": [
    {
     "data": {
      "text/plain": [
       "(115.20270270270281, 3.253294388381572e-23)"
      ]
     },
     "execution_count": 9,
     "metadata": {},
     "output_type": "execute_result"
    }
   ],
   "source": [
    "test = friedman_chi((fs3, fs6, fs9, fs12, fs15, fs18))\n",
    "test"
   ]
  },
  {
   "cell_type": "code",
   "execution_count": 26,
   "metadata": {},
   "outputs": [
    {
     "data": {
      "text/plain": [
       "WilcoxonResult(statistic=22.0, pvalue=0.003281477916364575)"
      ]
     },
     "execution_count": 26,
     "metadata": {},
     "output_type": "execute_result"
    }
   ],
   "source": [
    "#df = pd.DataFrame({'fs3':fs3, 'fs6':fs6, 'fs9':fs9, 'fs12':fs12, 'fs15':fs15, 'fs18':fs18})\n",
    "df = pd.DataFrame({'fs3':fs3, 'fs6':fs6, 'fs9':fs9})\n",
    "#df.boxplot()\n",
    "\n",
    "test2 = wilcoxon(fs6, fs9)\n",
    "test2"
   ]
  },
  {
   "cell_type": "code",
   "execution_count": null,
   "metadata": {},
   "outputs": [],
   "source": []
  }
 ],
 "metadata": {
  "kernelspec": {
   "display_name": "Python 3",
   "language": "python",
   "name": "python3"
  },
  "language_info": {
   "codemirror_mode": {
    "name": "ipython",
    "version": 3
   },
   "file_extension": ".py",
   "mimetype": "text/x-python",
   "name": "python",
   "nbconvert_exporter": "python",
   "pygments_lexer": "ipython3",
   "version": "3.7.4"
  }
 },
 "nbformat": 4,
 "nbformat_minor": 4
}
