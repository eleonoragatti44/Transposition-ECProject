{
 "cells": [
  {
   "cell_type": "markdown",
   "metadata": {},
   "source": [
    "# Generating Initial Population\n",
    "\n",
    "This notebook create the initial population for a specific problem and save it in a file. This allow us to use the same initial condition for the different algorithms."
   ]
  },
  {
   "cell_type": "code",
   "execution_count": 5,
   "metadata": {},
   "outputs": [],
   "source": [
    "from evol_algorithm import *\n",
    "import numpy as np"
   ]
  },
  {
   "cell_type": "code",
   "execution_count": 6,
   "metadata": {},
   "outputs": [],
   "source": [
    "size_pop = 200\n",
    "dimensions = 20\n",
    "precision = 3"
   ]
  },
  {
   "cell_type": "markdown",
   "metadata": {},
   "source": [
    "## RASTIRIGIN"
   ]
  },
  {
   "cell_type": "code",
   "execution_count": 8,
   "metadata": {},
   "outputs": [],
   "source": [
    "'''\n",
    "Save pop in file\n",
    "'''\n",
    "\n",
    "max_domain = 5.12\n",
    "pop = gera_pop(max_domain, precision, dimensions)\n",
    "population = pop(size_pop)\n",
    "cromos = [cromo for cromo, fit in population]\n",
    "np.savetxt('Initial_populations/pop_rastrigin_D'+str(dimensions)+'_pop'+str(size_pop)+'.dat',\n",
    "           cromos,\n",
    "           fmt='%i')"
   ]
  },
  {
   "cell_type": "markdown",
   "metadata": {},
   "source": [
    "- - - - - -"
   ]
  },
  {
   "cell_type": "code",
   "execution_count": 4,
   "metadata": {},
   "outputs": [],
   "source": [
    "size_pop = 200\n",
    "dimensions = 15\n",
    "precision = 3"
   ]
  },
  {
   "cell_type": "markdown",
   "metadata": {},
   "source": [
    "## SCHWEFEL"
   ]
  },
  {
   "cell_type": "code",
   "execution_count": 5,
   "metadata": {},
   "outputs": [],
   "source": [
    "'''\n",
    "Save pop in file\n",
    "'''\n",
    "\n",
    "max_domain = 500\n",
    "pop = gera_pop(max_domain, precision, dimensions)\n",
    "population = pop(size_pop)\n",
    "cromos = [cromo for cromo, fit in population]\n",
    "np.savetxt('Initial_populations/pop_schwefel_D'+str(dimensions)+'_pop'+str(size_pop)+'.dat',\n",
    "           cromos,\n",
    "           fmt='%i')"
   ]
  },
  {
   "cell_type": "markdown",
   "metadata": {},
   "source": [
    "- - - - - -"
   ]
  }
 ],
 "metadata": {
  "kernelspec": {
   "display_name": "Python 3",
   "language": "python",
   "name": "python3"
  },
  "language_info": {
   "codemirror_mode": {
    "name": "ipython",
    "version": 3
   },
   "file_extension": ".py",
   "mimetype": "text/x-python",
   "name": "python",
   "nbconvert_exporter": "python",
   "pygments_lexer": "ipython3",
   "version": "3.7.4"
  }
 },
 "nbformat": 4,
 "nbformat_minor": 4
}
