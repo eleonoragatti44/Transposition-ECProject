{
 "cells": [
  {
   "cell_type": "markdown",
   "metadata": {},
   "source": [
    "# Generating Initial Population"
   ]
  },
  {
   "cell_type": "code",
   "execution_count": 1,
   "metadata": {},
   "outputs": [],
   "source": [
    "from evol_algorithm import *\n",
    "import numpy as np"
   ]
  },
  {
   "cell_type": "code",
   "execution_count": 4,
   "metadata": {},
   "outputs": [],
   "source": [
    "size_pop = 100\n",
    "dimensions = 12\n",
    "precision = 3"
   ]
  },
  {
   "cell_type": "markdown",
   "metadata": {},
   "source": [
    "## RASTIRIGIN"
   ]
  },
  {
   "cell_type": "code",
   "execution_count": 5,
   "metadata": {},
   "outputs": [],
   "source": [
    "'''\n",
    "Save pop in file\n",
    "'''\n",
    "\n",
    "max_domain = 5.12\n",
    "pop = gera_pop(max_domain, precision, dimensions)\n",
    "population = pop(size_pop)\n",
    "cromos = [cromo for cromo, fit in population]\n",
    "np.savetxt('init_pop_rastrigin.dat', cromos, fmt='%i')"
   ]
  },
  {
   "cell_type": "markdown",
   "metadata": {},
   "source": [
    "- - - - - -"
   ]
  },
  {
   "cell_type": "markdown",
   "metadata": {},
   "source": [
    "## FZ ???"
   ]
  },
  {
   "cell_type": "code",
   "execution_count": 3,
   "metadata": {},
   "outputs": [],
   "source": [
    "'''\n",
    "Save pop in file\n",
    "'''\n",
    "\n",
    "max_domain = ???\n",
    "pop = gera_pop(max_domain, precision, dimensions)\n",
    "population = pop(size_pop)\n",
    "cromos = [cromo for cromo, fit in population]\n",
    "np.savetxt('init_pop_???.dat', cromos, fmt='%i')"
   ]
  }
 ],
 "metadata": {
  "kernelspec": {
   "display_name": "Python 3",
   "language": "python",
   "name": "python3"
  },
  "language_info": {
   "codemirror_mode": {
    "name": "ipython",
    "version": 3
   },
   "file_extension": ".py",
   "mimetype": "text/x-python",
   "name": "python",
   "nbconvert_exporter": "python",
   "pygments_lexer": "ipython3",
   "version": "3.7.4"
  }
 },
 "nbformat": 4,
 "nbformat_minor": 4
}
