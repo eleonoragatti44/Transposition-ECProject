{
 "cells": [
  {
   "cell_type": "markdown",
   "metadata": {},
   "source": [
    "# Transposition, a bio-inspired operator\n",
    "\n",
    "This notebook is based on the algorithms stored in `evol_algorithm.py` file.\n",
    "\n",
    "## Evolutionary Algorithm\n",
    "\n",
    "We run an evolutionary algorithm and evaluate the performance for two different recombination operator: **Uniform Crossover** and **Transposition**."
   ]
  },
  {
   "cell_type": "code",
   "execution_count": 3,
   "metadata": {},
   "outputs": [],
   "source": [
    "from evol_algorithm import *\n",
    "import numpy as np\n",
    "import matplotlib.pyplot as plt\n",
    "import pandas as pd"
   ]
  },
  {
   "cell_type": "markdown",
   "metadata": {},
   "source": [
    "- - - - - - - - - - - - - - - - - - - - - - - - - - - - - - - - - - - - - - - - - - - - - - - - - - - - - "
   ]
  },
  {
   "cell_type": "markdown",
   "metadata": {},
   "source": [
    "## Runs\n",
    "\n",
    "We use two different functions to test our algorithm: **Rastrigin** function and **Schwewfel** function.\n",
    "\n",
    "For some parameters we use the same value for all the runs, so we define them before running the evolutionary algorithms.\n",
    "\n",
    "Furthermore we use the same population for every run and it is inizialized by the file `gen_init_pop.ipynb`.\n",
    "\n",
    "**PARAMETERS:**"
   ]
  },
  {
   "cell_type": "code",
   "execution_count": 4,
   "metadata": {},
   "outputs": [],
   "source": [
    "numb_runs = 30\n",
    "numb_generations = 300\n",
    "prob_mut = 0.02\n",
    "prob_cross = 0.7\n",
    "tour_size = 3\n",
    "elite_percent = 0.02\n",
    "precision = 3"
   ]
  },
  {
   "cell_type": "markdown",
   "metadata": {},
   "source": [
    "## RASTIRIGIN FUNCTION"
   ]
  },
  {
   "cell_type": "code",
   "execution_count": 5,
   "metadata": {},
   "outputs": [],
   "source": [
    "dimensions = 20\n",
    "size_pop = 100"
   ]
  },
  {
   "cell_type": "code",
   "execution_count": 3,
   "metadata": {},
   "outputs": [],
   "source": [
    "# problem dependent parameters\n",
    "max_domain = 5.12\n",
    "filename = 'rastrigin_crossover_D'+str(dimensions)+'_pop'+str(size_pop)\n",
    "fitness = fit_rastrigin(dimensions, precision)\n",
    "mutation = muta_bin(max_domain, dimensions, precision)\n",
    "\n",
    "'''\n",
    "Return population from file\n",
    "'''\n",
    "pop_init = read_init_pop('Initial_populations/pop_rastrigin_D'+str(dimensions)+'_pop'+str(size_pop)+'.dat')"
   ]
  },
  {
   "cell_type": "markdown",
   "metadata": {},
   "source": [
    "**CROSSOVER**\n",
    "\n",
    "We run the algoritm with crossover operator."
   ]
  },
  {
   "cell_type": "code",
   "execution_count": 6,
   "metadata": {},
   "outputs": [
    {
     "name": "stdout",
     "output_type": "stream",
     "text": [
      "CPU times: user 4h 10min 42s, sys: 4.43 s, total: 4h 10min 47s\n",
      "Wall time: 4h 44min 18s\n"
     ]
    }
   ],
   "source": [
    "%%time\n",
    "\n",
    "recombination = uniform_cross(prob_cross, max_domain, precision, dimensions)\n",
    "run_file(filename, numb_runs, numb_generations, pop_init, size_pop, prob_mut,\n",
    "         tour_sel(tour_size), recombination, mutation, sel_survivors_elite(elite_percent), fitness)"
   ]
  },
  {
   "cell_type": "markdown",
   "metadata": {},
   "source": [
    "**TRANSPOSITION**\n",
    "\n",
    "We run the algoritm with transposition operator and different flanking size."
   ]
  },
  {
   "cell_type": "code",
   "execution_count": 4,
   "metadata": {},
   "outputs": [
    {
     "name": "stdout",
     "output_type": "stream",
     "text": [
      "CPU times: user 2h 3min 17s, sys: 3.65 s, total: 2h 3min 21s\n",
      "Wall time: 2h 3min 23s\n"
     ]
    }
   ],
   "source": [
    "%%time\n",
    "\n",
    "flank_size = [6]\n",
    "\n",
    "for f_s in flank_size:\n",
    "    filename = 'rastrigin_transposition_'+str(f_s)+'_D'+str(dimensions)\n",
    "    recombination = transposition(f_s)\n",
    "    run_file(filename, numb_runs, numb_generations, pop_init, size_pop, prob_mut,\n",
    "         tour_sel(tour_size), recombination, mutation, sel_survivors_elite(elite_percent), fitness)"
   ]
  },
  {
   "cell_type": "markdown",
   "metadata": {},
   "source": [
    "- - - - - -"
   ]
  },
  {
   "cell_type": "markdown",
   "metadata": {},
   "source": [
    "## SCHWEFEL FUNCTION\n",
    "\n",
    "We repeat the same run for Schwefel function."
   ]
  },
  {
   "cell_type": "code",
   "execution_count": 3,
   "metadata": {},
   "outputs": [],
   "source": [
    "dimensions = 15\n",
    "size_pop = 100"
   ]
  },
  {
   "cell_type": "markdown",
   "metadata": {},
   "source": [
    "**CROSSOVER**"
   ]
  },
  {
   "cell_type": "code",
   "execution_count": 4,
   "metadata": {},
   "outputs": [],
   "source": [
    "# problem dependent parameters\n",
    "max_domain = 500\n",
    "filename = 'schwefel_crossover_D'+str(dimensions)+'_pop'+str(size_pop)\n",
    "fitness = fit_schwefel(dimensions, precision)\n",
    "mutation = muta_bin(max_domain, dimensions, precision)\n",
    "\n",
    "'''\n",
    "Return population from file\n",
    "'''\n",
    "pop_init = read_init_pop('Initial_populations/pop_schwefel_D'+str(dimensions)+'_pop'+str(size_pop)+'.dat')"
   ]
  },
  {
   "cell_type": "code",
   "execution_count": 5,
   "metadata": {},
   "outputs": [
    {
     "name": "stdout",
     "output_type": "stream",
     "text": [
      "CPU times: user 19min 25s, sys: 3.96 s, total: 19min 29s\n",
      "Wall time: 19min 41s\n"
     ]
    }
   ],
   "source": [
    "%%time\n",
    "\n",
    "recombination = uniform_cross(prob_cross, max_domain, precision, dimensions)\n",
    "run_file(filename, numb_runs, numb_generations, pop_init, size_pop, prob_mut,\n",
    "         tour_sel(tour_size), recombination, mutation, sel_survivors_elite(elite_percent), fitness)"
   ]
  },
  {
   "cell_type": "markdown",
   "metadata": {},
   "source": [
    "**TRANSPOSITION**"
   ]
  },
  {
   "cell_type": "code",
   "execution_count": 6,
   "metadata": {},
   "outputs": [
    {
     "name": "stdout",
     "output_type": "stream",
     "text": [
      "CPU times: user 4h 42min 56s, sys: 5.58 s, total: 4h 43min 2s\n",
      "Wall time: 5h 16min 55s\n"
     ]
    }
   ],
   "source": [
    "%%time\n",
    "\n",
    "flank_size = [6,9]\n",
    "\n",
    "for f_s in flank_size:\n",
    "    filename = 'schwefel_transposition_'+str(f_s)+'_D'+str(dimensions)\n",
    "    recombination = transposition(f_s)\n",
    "    run_file(filename, numb_runs, numb_generations, pop_init, size_pop, prob_mut,\n",
    "         tour_sel(tour_size), recombination, mutation, sel_survivors_elite(elite_percent), fitness)"
   ]
  },
  {
   "cell_type": "markdown",
   "metadata": {},
   "source": [
    "---"
   ]
  },
  {
   "cell_type": "markdown",
   "metadata": {},
   "source": [
    "---"
   ]
  },
  {
   "cell_type": "markdown",
   "metadata": {},
   "source": [
    "---"
   ]
  }
 ],
 "metadata": {
  "kernelspec": {
   "display_name": "Python 3",
   "language": "python",
   "name": "python3"
  },
  "language_info": {
   "codemirror_mode": {
    "name": "ipython",
    "version": 3
   },
   "file_extension": ".py",
   "mimetype": "text/x-python",
   "name": "python",
   "nbconvert_exporter": "python",
   "pygments_lexer": "ipython3",
   "version": "3.7.4"
  }
 },
 "nbformat": 4,
 "nbformat_minor": 4
}
